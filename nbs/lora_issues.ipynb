{
 "cells": [
  {
   "cell_type": "code",
   "execution_count": 105,
   "metadata": {},
   "outputs": [],
   "source": [
    "from types import SimpleNamespace\n",
    "\n",
    "import torch\n",
    "from torch import nn\n",
    "from torch.utils.checkpoint import checkpoint"
   ]
  },
  {
   "cell_type": "markdown",
   "metadata": {},
   "source": [
    "## Let's check what's going on with GC"
   ]
  },
  {
   "cell_type": "code",
   "execution_count": 232,
   "metadata": {},
   "outputs": [],
   "source": [
    "class Model(nn.Module):\n",
    "    def __init__(self):\n",
    "        super().__init__()\n",
    "        self.embed = nn.Embedding(2, 4)\n",
    "        self.linear = nn.Sequential(nn.Linear(4,4), nn.ReLU())\n",
    "        self.head = nn.Linear(4,2)\n",
    "    \n",
    "    def forward(self, x, cp=False, reentrant=True):\n",
    "        x = self.embed(x)\n",
    "        print(f\"Embedding: {x.grad_fn}\")\n",
    "        if cp:\n",
    "            x = checkpoint(self.linear, x, use_reentrant=reentrant)\n",
    "            print(f\"Linear: {x.grad_fn}\")\n",
    "        else:\n",
    "            x = self.linear(x)\n",
    "            print(f\"Linear: {x.grad_fn}\")\n",
    "        out = self.head(x)\n",
    "        print(f\"Head: {out.grad_fn}\")\n",
    "        return out\n",
    "        \n",
    "model = Model().cuda()\n",
    "x = torch.randint(0, 2, size=(1,4)).cuda()"
   ]
  },
  {
   "cell_type": "markdown",
   "metadata": {},
   "source": [
    "no gradient checkpointing"
   ]
  },
  {
   "cell_type": "code",
   "execution_count": 233,
   "metadata": {},
   "outputs": [
    {
     "name": "stdout",
     "output_type": "stream",
     "text": [
      "Embedding: <EmbeddingBackward0 object at 0x7ff979056bc0>\n",
      "Linear: <ReluBackward0 object at 0x7ff979277670>\n",
      "Head: <ViewBackward0 object at 0x7ff979277670>\n"
     ]
    },
    {
     "data": {
      "text/plain": [
       "tensor(0.3714, device='cuda:0', grad_fn=<SumBackward0>)"
      ]
     },
     "execution_count": 233,
     "metadata": {},
     "output_type": "execute_result"
    }
   ],
   "source": [
    "loss = model(x).pow(2).sum()\n",
    "loss.backward()\n",
    "loss"
   ]
  },
  {
   "cell_type": "markdown",
   "metadata": {},
   "source": [
    "default Gradient Checkpointing with frozen embeddings"
   ]
  },
  {
   "cell_type": "code",
   "execution_count": 234,
   "metadata": {},
   "outputs": [
    {
     "name": "stdout",
     "output_type": "stream",
     "text": [
      "Embedding: None\n",
      "Linear: None\n",
      "Head: <ViewBackward0 object at 0x7ff979130bb0>\n"
     ]
    },
    {
     "data": {
      "text/plain": [
       "tensor(0.3714, device='cuda:0', grad_fn=<SumBackward0>)"
      ]
     },
     "execution_count": 234,
     "metadata": {},
     "output_type": "execute_result"
    }
   ],
   "source": [
    "model.embed.weight.requires_grad_(False);\n",
    "loss = model(x, cp=True).pow(2).sum()\n",
    "loss.backward()\n",
    "loss"
   ]
  },
  {
   "cell_type": "markdown",
   "metadata": {},
   "source": [
    "This is wrong, we should have gradients on Linear layer!"
   ]
  },
  {
   "cell_type": "markdown",
   "metadata": {},
   "source": [
    "New Gradient Checkpointing behavior"
   ]
  },
  {
   "cell_type": "code",
   "execution_count": 235,
   "metadata": {},
   "outputs": [
    {
     "name": "stdout",
     "output_type": "stream",
     "text": [
      "Embedding: None\n",
      "Linear: <ReluBackward0 object at 0x7ff9792762f0>\n",
      "Head: <ViewBackward0 object at 0x7ff9792762f0>\n"
     ]
    },
    {
     "data": {
      "text/plain": [
       "tensor(0.3714, device='cuda:0', grad_fn=<SumBackward0>)"
      ]
     },
     "execution_count": 235,
     "metadata": {},
     "output_type": "execute_result"
    }
   ],
   "source": [
    "loss = model(x, cp=True, reentrant=False).pow(2).sum()\n",
    "loss.backward()\n",
    "loss"
   ]
  }
 ],
 "metadata": {
  "kernelspec": {
   "display_name": "pt",
   "language": "python",
   "name": "python3"
  },
  "language_info": {
   "codemirror_mode": {
    "name": "ipython",
    "version": 3
   },
   "file_extension": ".py",
   "mimetype": "text/x-python",
   "name": "python",
   "nbconvert_exporter": "python",
   "pygments_lexer": "ipython3",
   "version": "3.10.13"
  }
 },
 "nbformat": 4,
 "nbformat_minor": 2
}
