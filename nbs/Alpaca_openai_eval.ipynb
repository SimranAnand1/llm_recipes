{
 "cells": [
  {
   "cell_type": "code",
   "execution_count": 59,
   "id": "dc30f503-fe9a-45ff-ad66-ec01aa639725",
   "metadata": {},
   "outputs": [],
   "source": [
    "WANDB_PROJECT = \"alpaca_ft\""
   ]
  },
  {
   "cell_type": "markdown",
   "id": "a800f270-8872-4223-825f-7e7156acedae",
   "metadata": {},
   "source": [
    "## Let's download the model predictions on the test_dataset"
   ]
  },
  {
   "cell_type": "code",
   "execution_count": 9,
   "id": "db5caf8c-589e-4a02-82ad-f4f697811d05",
   "metadata": {},
   "outputs": [
    {
     "name": "stderr",
     "output_type": "stream",
     "text": [
      "\u001b[34m\u001b[1mwandb\u001b[0m: Currently logged in as: \u001b[33mcapecape\u001b[0m. Use \u001b[1m`wandb login --relogin`\u001b[0m to force relogin\n"
     ]
    },
    {
     "data": {
      "text/html": [
       "Tracking run with wandb version 0.15.12"
      ],
      "text/plain": [
       "<IPython.core.display.HTML object>"
      ]
     },
     "metadata": {},
     "output_type": "display_data"
    },
    {
     "data": {
      "text/html": [
       "Run data is saved locally in <code>/home/tcapelle/work/llm_recipes/wandb/run-20231102_202347-h1h9z9n2</code>"
      ],
      "text/plain": [
       "<IPython.core.display.HTML object>"
      ]
     },
     "metadata": {},
     "output_type": "display_data"
    },
    {
     "data": {
      "text/html": [
       "Syncing run <strong><a href='https://wandb.ai/capecape/llm_recipes-llm_recipes/runs/h1h9z9n2' target=\"_blank\">absurd-snowball-4</a></strong> to <a href='https://wandb.ai/capecape/llm_recipes-llm_recipes' target=\"_blank\">Weights & Biases</a> (<a href='https://wandb.me/run' target=\"_blank\">docs</a>)<br/>"
      ],
      "text/plain": [
       "<IPython.core.display.HTML object>"
      ]
     },
     "metadata": {},
     "output_type": "display_data"
    },
    {
     "data": {
      "text/html": [
       " View project at <a href='https://wandb.ai/capecape/llm_recipes-llm_recipes' target=\"_blank\">https://wandb.ai/capecape/llm_recipes-llm_recipes</a>"
      ],
      "text/plain": [
       "<IPython.core.display.HTML object>"
      ]
     },
     "metadata": {},
     "output_type": "display_data"
    },
    {
     "data": {
      "text/html": [
       " View run at <a href='https://wandb.ai/capecape/llm_recipes-llm_recipes/runs/h1h9z9n2' target=\"_blank\">https://wandb.ai/capecape/llm_recipes-llm_recipes/runs/h1h9z9n2</a>"
      ],
      "text/plain": [
       "<IPython.core.display.HTML object>"
      ]
     },
     "metadata": {},
     "output_type": "display_data"
    },
    {
     "name": "stderr",
     "output_type": "stream",
     "text": [
      "\u001b[34m\u001b[1mwandb\u001b[0m:   1 of 1 files downloaded.  \n"
     ]
    }
   ],
   "source": [
    "import wandb\n",
    "run = wandb.init()\n",
    "artifact = run.use_artifact('capecape/alpaca_ft/run-b0pjf9y7-eval_predictions:v0', type='run_table')\n",
    "artifact_dir = artifact.download()"
   ]
  },
  {
   "cell_type": "code",
   "execution_count": 10,
   "id": "e33f2afe-396c-45b4-b301-824b39443a77",
   "metadata": {},
   "outputs": [
    {
     "name": "stderr",
     "output_type": "stream",
     "text": [
      "\u001b[34m\u001b[1mwandb\u001b[0m:   1 of 1 files downloaded.  \n"
     ]
    }
   ],
   "source": [
    "table = artifact.get(\"eval_predictions\")"
   ]
  },
  {
   "cell_type": "code",
   "execution_count": 11,
   "id": "483cad71-85db-4b85-9a71-192a142ac7ec",
   "metadata": {},
   "outputs": [],
   "source": [
    "import pandas as pd\n",
    "llama7b_ft_results_df = pd.DataFrame(data=table.data, columns=table.columns)"
   ]
  },
  {
   "cell_type": "code",
   "execution_count": 12,
   "id": "19f87eae-e208-4470-9632-038504fad4b4",
   "metadata": {},
   "outputs": [
    {
     "data": {
      "text/html": [
       "<div>\n",
       "<style scoped>\n",
       "    .dataframe tbody tr th:only-of-type {\n",
       "        vertical-align: middle;\n",
       "    }\n",
       "\n",
       "    .dataframe tbody tr th {\n",
       "        vertical-align: top;\n",
       "    }\n",
       "\n",
       "    .dataframe thead th {\n",
       "        text-align: right;\n",
       "    }\n",
       "</style>\n",
       "<table border=\"1\" class=\"dataframe\">\n",
       "  <thead>\n",
       "    <tr style=\"text-align: right;\">\n",
       "      <th></th>\n",
       "      <th>prompt</th>\n",
       "      <th>generation</th>\n",
       "      <th>concat</th>\n",
       "      <th>output</th>\n",
       "      <th>max_new_tokens</th>\n",
       "      <th>temperature</th>\n",
       "      <th>top_p</th>\n",
       "    </tr>\n",
       "  </thead>\n",
       "  <tbody>\n",
       "    <tr>\n",
       "      <th>0</th>\n",
       "      <td>Below is an instruction that describes a task,...</td>\n",
       "      <td>Based on the input, suggest a medical diagnosi...</td>\n",
       "      <td>Below is an instruction that describes a task,...</td>\n",
       "      <td>Based on the test result, the patient is showi...</td>\n",
       "      <td>256</td>\n",
       "      <td>0.6</td>\n",
       "      <td>0.9</td>\n",
       "    </tr>\n",
       "    <tr>\n",
       "      <th>1</th>\n",
       "      <td>Below is an instruction that describes a task,...</td>\n",
       "      <td>Estoy muy feliz de trabajar con usted en este ...</td>\n",
       "      <td>Below is an instruction that describes a task,...</td>\n",
       "      <td>Estamos emocionados de trabajar contigo en est...</td>\n",
       "      <td>256</td>\n",
       "      <td>0.6</td>\n",
       "      <td>0.9</td>\n",
       "    </tr>\n",
       "    <tr>\n",
       "      <th>2</th>\n",
       "      <td>Below is an instruction that describes a task....</td>\n",
       "      <td>1. Hacking\\n2. Malware\\n3. Phishing\\n4. Social...</td>\n",
       "      <td>Below is an instruction that describes a task....</td>\n",
       "      <td>1. Malware and Viruses: Malware and viruses ca...</td>\n",
       "      <td>256</td>\n",
       "      <td>0.6</td>\n",
       "      <td>0.9</td>\n",
       "    </tr>\n",
       "    <tr>\n",
       "      <th>3</th>\n",
       "      <td>Below is an instruction that describes a task....</td>\n",
       "      <td>One potential area for improvement for my favo...</td>\n",
       "      <td>Below is an instruction that describes a task....</td>\n",
       "      <td>One of my favorite websites is Wikipedia - an ...</td>\n",
       "      <td>256</td>\n",
       "      <td>0.6</td>\n",
       "      <td>0.9</td>\n",
       "    </tr>\n",
       "    <tr>\n",
       "      <th>4</th>\n",
       "      <td>Below is an instruction that describes a task....</td>\n",
       "      <td>Drug testing is important in professional spor...</td>\n",
       "      <td>Below is an instruction that describes a task....</td>\n",
       "      <td>Drug testing is an important measure implement...</td>\n",
       "      <td>256</td>\n",
       "      <td>0.6</td>\n",
       "      <td>0.9</td>\n",
       "    </tr>\n",
       "  </tbody>\n",
       "</table>\n",
       "</div>"
      ],
      "text/plain": [
       "                                              prompt  \\\n",
       "0  Below is an instruction that describes a task,...   \n",
       "1  Below is an instruction that describes a task,...   \n",
       "2  Below is an instruction that describes a task....   \n",
       "3  Below is an instruction that describes a task....   \n",
       "4  Below is an instruction that describes a task....   \n",
       "\n",
       "                                          generation  \\\n",
       "0  Based on the input, suggest a medical diagnosi...   \n",
       "1  Estoy muy feliz de trabajar con usted en este ...   \n",
       "2  1. Hacking\\n2. Malware\\n3. Phishing\\n4. Social...   \n",
       "3  One potential area for improvement for my favo...   \n",
       "4  Drug testing is important in professional spor...   \n",
       "\n",
       "                                              concat  \\\n",
       "0  Below is an instruction that describes a task,...   \n",
       "1  Below is an instruction that describes a task,...   \n",
       "2  Below is an instruction that describes a task....   \n",
       "3  Below is an instruction that describes a task....   \n",
       "4  Below is an instruction that describes a task....   \n",
       "\n",
       "                                              output  max_new_tokens  \\\n",
       "0  Based on the test result, the patient is showi...             256   \n",
       "1  Estamos emocionados de trabajar contigo en est...             256   \n",
       "2  1. Malware and Viruses: Malware and viruses ca...             256   \n",
       "3  One of my favorite websites is Wikipedia - an ...             256   \n",
       "4  Drug testing is an important measure implement...             256   \n",
       "\n",
       "   temperature  top_p  \n",
       "0          0.6    0.9  \n",
       "1          0.6    0.9  \n",
       "2          0.6    0.9  \n",
       "3          0.6    0.9  \n",
       "4          0.6    0.9  "
      ]
     },
     "execution_count": 12,
     "metadata": {},
     "output_type": "execute_result"
    }
   ],
   "source": [
    "llama7b_ft_results_df.head()"
   ]
  },
  {
   "cell_type": "markdown",
   "id": "0c049c9b-63a7-437a-8d9c-d83659e411f6",
   "metadata": {},
   "source": [
    "## Generate responses with GPT 3.5"
   ]
  },
  {
   "cell_type": "code",
   "execution_count": 32,
   "id": "4e6c3490-7a48-495d-adf4-c0f0fb1c391a",
   "metadata": {},
   "outputs": [],
   "source": [
    "from types import SimpleNamespace\n",
    "\n",
    "from tqdm.auto import tqdm\n",
    "\n",
    "from tenacity import (\n",
    "    retry,\n",
    "    stop_after_attempt,\n",
    "    wait_random_exponential, # for exponential backoff\n",
    ")  \n",
    "\n",
    "@retry(wait=wait_random_exponential(min=1, max=60), stop=stop_after_attempt(6))\n",
    "def completion_with_backoff(**kwargs):\n",
    "    return openai.ChatCompletion.create(**kwargs)"
   ]
  },
  {
   "cell_type": "code",
   "execution_count": 39,
   "id": "de1ba020-c1f4-46bd-9826-012601762773",
   "metadata": {},
   "outputs": [
    {
     "data": {
      "text/plain": [
       "<method 'items' of 'dict' objects>"
      ]
     },
     "execution_count": 39,
     "metadata": {},
     "output_type": "execute_result"
    }
   ],
   "source": [
    "openai.ChatCompletion.create("
   ]
  },
  {
   "cell_type": "code",
   "execution_count": 40,
   "id": "16042508-45f2-48ec-89ae-cd65f97246eb",
   "metadata": {},
   "outputs": [],
   "source": [
    "gpt35_config = SimpleNamespace(\n",
    "    max_tokens=256,\n",
    "    system_prompt=\"You are a helpful assistant.\",\n",
    "    temperature=1,\n",
    ")"
   ]
  },
  {
   "cell_type": "code",
   "execution_count": 41,
   "id": "6d8ff637-9dbe-45ea-a040-3e5c0c81c1ae",
   "metadata": {},
   "outputs": [],
   "source": [
    "def generate_35(prompt):\n",
    "    completion = completion_with_backoff(\n",
    "        model=\"gpt-3.5-turbo\",\n",
    "        messages=[{\"role\": \"system\", \"content\": gpt35_config.system_prompt},\n",
    "                  {\"role\": \"user\",\"content\": prompt}\n",
    "                 ],\n",
    "        max_tokens=gpt35_config.max_tokens,\n",
    "        temperature=gpt35_config.temperature,\n",
    "    \n",
    "    )\n",
    "    return completion.choices[0].message.content"
   ]
  },
  {
   "cell_type": "code",
   "execution_count": 42,
   "id": "51ee1e0a-aa30-444f-929f-771fff3232a9",
   "metadata": {},
   "outputs": [
    {
     "data": {
      "text/plain": [
       "'Below is an instruction that describes a task, paired with an input that provides further context. Write a response that appropriately completes the request.\\n\\n### Instruction:\\nGenerate an medical diagnosis from the following test result.\\n\\n### Input:\\nPatient has elevated levels of white blood cells.\\n\\n### Response:\\n'"
      ]
     },
     "execution_count": 42,
     "metadata": {},
     "output_type": "execute_result"
    }
   ],
   "source": [
    "llama7b_ft_results_df.iloc[0].prompt"
   ]
  },
  {
   "cell_type": "code",
   "execution_count": 43,
   "id": "53966cdb-6896-4779-9b51-84a767e2cd4d",
   "metadata": {},
   "outputs": [
    {
     "data": {
      "text/plain": [
       "\"Based on the test results, the patient may have an infection or inflammation. It is important to further evaluate the patient's symptoms and conduct additional tests to determine the specific cause of the elevated white blood cell levels.\""
      ]
     },
     "execution_count": 43,
     "metadata": {},
     "output_type": "execute_result"
    }
   ],
   "source": [
    "generate_35(llama7b_ft_results_df.iloc[0].prompt)"
   ]
  },
  {
   "cell_type": "code",
   "execution_count": 44,
   "id": "e80bef93-ee22-4210-bd6e-8b37f1d43bf3",
   "metadata": {},
   "outputs": [
    {
     "data": {
      "application/vnd.jupyter.widget-view+json": {
       "model_id": "bcc210b798964447ae99adf7c051a310",
       "version_major": 2,
       "version_minor": 0
      },
      "text/plain": [
       "  0%|          | 0/250 [00:00<?, ?it/s]"
      ]
     },
     "metadata": {},
     "output_type": "display_data"
    }
   ],
   "source": [
    "results = []\n",
    "for i, prompt in enumerate(tqdm(llama7b_ft_results_df.prompt.to_list())):\n",
    "    results.append((i, generate_35(prompt)))"
   ]
  },
  {
   "cell_type": "markdown",
   "id": "23d9a313-b234-4d90-b491-eba3ede8b999",
   "metadata": {},
   "source": [
    "### Let's store those precious results!"
   ]
  },
  {
   "cell_type": "code",
   "execution_count": 45,
   "id": "2c0618d4-4369-4bd6-97a1-ab18f12fcbe8",
   "metadata": {},
   "outputs": [],
   "source": [
    "gpt35_df = pd.DataFrame(results, columns=[\"index\", \"generation\"])"
   ]
  },
  {
   "cell_type": "markdown",
   "id": "81692180-a5dc-4157-9c90-b9386ea69461",
   "metadata": {},
   "source": [
    "merge the prompts"
   ]
  },
  {
   "cell_type": "code",
   "execution_count": 48,
   "id": "3a7bd670-32fe-49f7-ba64-fd95bb354ffc",
   "metadata": {},
   "outputs": [],
   "source": [
    "gpt35_df = gpt35_df.assign(prompt=llama7b_ft_results_df[\"prompt\"])"
   ]
  },
  {
   "cell_type": "code",
   "execution_count": 51,
   "id": "5ba2b1c3-d4ef-4628-aab4-b6de34bf42ca",
   "metadata": {},
   "outputs": [],
   "source": [
    "gpt35_df = gpt35_df[[\"index\", \"prompt\", \"generation\"]]"
   ]
  },
  {
   "cell_type": "code",
   "execution_count": 55,
   "id": "e40a43d2-f73e-4eb1-9397-00aae3810110",
   "metadata": {},
   "outputs": [
    {
     "name": "stdout",
     "output_type": "stream",
     "text": [
      "Below is an instruction that describes a task. Write a response that appropriately completes the request.\n",
      "\n",
      "### Instruction:\n",
      "Brainstorm 5 ways to reduce stress.\n",
      "\n",
      "### Response:\n",
      "Here are 5 ways to reduce stress:\n",
      "\n",
      "1. Engage in regular physical activity or exercise: Exercise helps to release endorphins, which are natural mood boosters. It can also help to reduce muscle tension and promote relaxation.\n",
      "\n",
      "2. Practice relaxation techniques: Techniques such as deep breathing exercises, meditation, and yoga can help to calm the mind and reduce stress levels.\n",
      "\n",
      "3. Prioritize self-care: Taking care of yourself is important in managing stress. This can include getting enough sleep, eating a healthy diet, and making time for activities you enjoy.\n",
      "\n",
      "4. Set realistic expectations and boundaries: Setting realistic goals and boundaries can help to reduce feelings of overwhelm and prevent burnout. It is important to establish healthy boundaries in both personal and professional relationships.\n",
      "\n",
      "5. Seek support: Talking to a trusted friend, family member, or professional can provide valuable support and guidance in managing stress. Additionally, joining a support group or seeking therapy can be beneficial in learning coping strategies and gaining perspective on stressors.\n"
     ]
    }
   ],
   "source": [
    "print(\"{prompt}{generation}\".format_map(gpt35_df.iloc[10]))"
   ]
  },
  {
   "cell_type": "code",
   "execution_count": 56,
   "id": "40c4d4b9-6ab5-4417-9f75-ec9295ad73fa",
   "metadata": {},
   "outputs": [],
   "source": [
    "gpt35_table = wandb.Table(dataframe=gpt35_df)"
   ]
  },
  {
   "cell_type": "code",
   "execution_count": 60,
   "id": "4ab92ef3-ec1a-4c6c-9576-a2aa67b45487",
   "metadata": {},
   "outputs": [
    {
     "data": {
      "text/html": [
       "Finishing last run (ID:h1h9z9n2) before initializing another..."
      ],
      "text/plain": [
       "<IPython.core.display.HTML object>"
      ]
     },
     "metadata": {},
     "output_type": "display_data"
    },
    {
     "data": {
      "text/html": [
       "Waiting for W&B process to finish... <strong style=\"color:green\">(success).</strong>"
      ],
      "text/plain": [
       "<IPython.core.display.HTML object>"
      ]
     },
     "metadata": {},
     "output_type": "display_data"
    },
    {
     "data": {
      "application/vnd.jupyter.widget-view+json": {
       "model_id": "db627ad94feb4924b660029e2b1c141b",
       "version_major": 2,
       "version_minor": 0
      },
      "text/plain": [
       "VBox(children=(Label(value='0.002 MB of 0.002 MB uploaded (0.000 MB deduped)\\r'), FloatProgress(value=1.0, max…"
      ]
     },
     "metadata": {},
     "output_type": "display_data"
    },
    {
     "data": {
      "text/html": [
       " View run <strong style=\"color:#cdcd00\">absurd-snowball-4</strong> at: <a href='https://wandb.ai/capecape/llm_recipes-llm_recipes/runs/h1h9z9n2' target=\"_blank\">https://wandb.ai/capecape/llm_recipes-llm_recipes/runs/h1h9z9n2</a><br/> View job at <a href='https://wandb.ai/capecape/llm_recipes-llm_recipes/jobs/QXJ0aWZhY3RDb2xsZWN0aW9uOjExMjIyMTEzOA==/version_details/v1' target=\"_blank\">https://wandb.ai/capecape/llm_recipes-llm_recipes/jobs/QXJ0aWZhY3RDb2xsZWN0aW9uOjExMjIyMTEzOA==/version_details/v1</a><br/>Synced 6 W&B file(s), 0 media file(s), 2 artifact file(s) and 1 other file(s)"
      ],
      "text/plain": [
       "<IPython.core.display.HTML object>"
      ]
     },
     "metadata": {},
     "output_type": "display_data"
    },
    {
     "data": {
      "text/html": [
       "Find logs at: <code>./wandb/run-20231102_202347-h1h9z9n2/logs</code>"
      ],
      "text/plain": [
       "<IPython.core.display.HTML object>"
      ]
     },
     "metadata": {},
     "output_type": "display_data"
    },
    {
     "data": {
      "text/html": [
       "Successfully finished last run (ID:h1h9z9n2). Initializing new run:<br/>"
      ],
      "text/plain": [
       "<IPython.core.display.HTML object>"
      ]
     },
     "metadata": {},
     "output_type": "display_data"
    },
    {
     "data": {
      "application/vnd.jupyter.widget-view+json": {
       "model_id": "2e109d11330a4cbc82011b1c03e9c3ef",
       "version_major": 2,
       "version_minor": 0
      },
      "text/plain": [
       "VBox(children=(Label(value='Waiting for wandb.init()...\\r'), FloatProgress(value=0.01111254137682004, max=1.0)…"
      ]
     },
     "metadata": {},
     "output_type": "display_data"
    },
    {
     "data": {
      "text/html": [
       "Tracking run with wandb version 0.15.12"
      ],
      "text/plain": [
       "<IPython.core.display.HTML object>"
      ]
     },
     "metadata": {},
     "output_type": "display_data"
    },
    {
     "data": {
      "text/html": [
       "Run data is saved locally in <code>/home/tcapelle/work/llm_recipes/wandb/run-20231102_212344-vkr1q6bw</code>"
      ],
      "text/plain": [
       "<IPython.core.display.HTML object>"
      ]
     },
     "metadata": {},
     "output_type": "display_data"
    },
    {
     "data": {
      "text/html": [
       "Syncing run <strong><a href='https://wandb.ai/capecape/alpaca_ft/runs/vkr1q6bw' target=\"_blank\">vocal-terrain-156</a></strong> to <a href='https://wandb.ai/capecape/alpaca_ft' target=\"_blank\">Weights & Biases</a> (<a href='https://wandb.me/run' target=\"_blank\">docs</a>)<br/>"
      ],
      "text/plain": [
       "<IPython.core.display.HTML object>"
      ]
     },
     "metadata": {},
     "output_type": "display_data"
    },
    {
     "data": {
      "text/html": [
       " View project at <a href='https://wandb.ai/capecape/alpaca_ft' target=\"_blank\">https://wandb.ai/capecape/alpaca_ft</a>"
      ],
      "text/plain": [
       "<IPython.core.display.HTML object>"
      ]
     },
     "metadata": {},
     "output_type": "display_data"
    },
    {
     "data": {
      "text/html": [
       " View run at <a href='https://wandb.ai/capecape/alpaca_ft/runs/vkr1q6bw' target=\"_blank\">https://wandb.ai/capecape/alpaca_ft/runs/vkr1q6bw</a>"
      ],
      "text/plain": [
       "<IPython.core.display.HTML object>"
      ]
     },
     "metadata": {},
     "output_type": "display_data"
    },
    {
     "data": {
      "text/html": [
       "Waiting for W&B process to finish... <strong style=\"color:green\">(success).</strong>"
      ],
      "text/plain": [
       "<IPython.core.display.HTML object>"
      ]
     },
     "metadata": {},
     "output_type": "display_data"
    },
    {
     "data": {
      "text/html": [
       " View run <strong style=\"color:#cdcd00\">vocal-terrain-156</strong> at: <a href='https://wandb.ai/capecape/alpaca_ft/runs/vkr1q6bw' target=\"_blank\">https://wandb.ai/capecape/alpaca_ft/runs/vkr1q6bw</a><br/> View job at <a href='https://wandb.ai/capecape/alpaca_ft/jobs/QXJ0aWZhY3RDb2xsZWN0aW9uOjExMjIzMzE1NA==/version_details/v0' target=\"_blank\">https://wandb.ai/capecape/alpaca_ft/jobs/QXJ0aWZhY3RDb2xsZWN0aW9uOjExMjIzMzE1NA==/version_details/v0</a><br/>Synced 5 W&B file(s), 1 media file(s), 3 artifact file(s) and 0 other file(s)"
      ],
      "text/plain": [
       "<IPython.core.display.HTML object>"
      ]
     },
     "metadata": {},
     "output_type": "display_data"
    },
    {
     "data": {
      "text/html": [
       "Find logs at: <code>./wandb/run-20231102_212344-vkr1q6bw/logs</code>"
      ],
      "text/plain": [
       "<IPython.core.display.HTML object>"
      ]
     },
     "metadata": {},
     "output_type": "display_data"
    }
   ],
   "source": [
    "with wandb.init(project=WANDB_PROJECT, job_type=\"eval\", tags=[\"gpt-3.5\"], config=gpt35_config):\n",
    "    wandb.log({\"gpt35_results\":gpt35_table})"
   ]
  },
  {
   "cell_type": "markdown",
   "id": "368980b7-6324-417a-846d-ce3bcda15f89",
   "metadata": {},
   "source": [
    "## Evaluate with GPT-4"
   ]
  },
  {
   "cell_type": "code",
   "execution_count": 63,
   "id": "64cf8454-5cfb-41a9-a3c8-79a7ac82dff6",
   "metadata": {},
   "outputs": [],
   "source": [
    "import pandas as pd\n",
    "\n",
    "gpt4_config = SimpleNamespace(\n",
    "    openai_model = \"gpt-4\",\n",
    "    temperature=1,\n",
    "    system_prompt = (\"You will be presented with a choice of two possible responses for an instruction\"\n",
    "                     \"You have to pick the best one and give a reason why.\\n\"\n",
    "                     \"The reponse should follow the instructions and use the provided context if there is some\\n\"\n",
    "                     \"If both answers are equivalent, pick the value 0\")\n",
    ")"
   ]
  },
  {
   "cell_type": "code",
   "execution_count": 70,
   "id": "7a8c2efe-ffbd-42c8-aa82-0c2aff7edcd8",
   "metadata": {},
   "outputs": [
    {
     "data": {
      "text/html": [
       "Finishing last run (ID:pokazchj) before initializing another..."
      ],
      "text/plain": [
       "<IPython.core.display.HTML object>"
      ]
     },
     "metadata": {},
     "output_type": "display_data"
    },
    {
     "data": {
      "text/html": [
       "Waiting for W&B process to finish... <strong style=\"color:green\">(success).</strong>"
      ],
      "text/plain": [
       "<IPython.core.display.HTML object>"
      ]
     },
     "metadata": {},
     "output_type": "display_data"
    },
    {
     "data": {
      "application/vnd.jupyter.widget-view+json": {
       "model_id": "bddfab20f2bd43ccac7d4beb5e9ddcfb",
       "version_major": 2,
       "version_minor": 0
      },
      "text/plain": [
       "VBox(children=(Label(value='0.002 MB of 0.002 MB uploaded (0.000 MB deduped)\\r'), FloatProgress(value=1.0, max…"
      ]
     },
     "metadata": {},
     "output_type": "display_data"
    },
    {
     "data": {
      "text/html": [
       " View run <strong style=\"color:#cdcd00\">icy-snowball-158</strong> at: <a href='https://wandb.ai/capecape/alpaca_ft/runs/pokazchj' target=\"_blank\">https://wandb.ai/capecape/alpaca_ft/runs/pokazchj</a><br/> View job at <a href='https://wandb.ai/capecape/alpaca_ft/jobs/QXJ0aWZhY3RDb2xsZWN0aW9uOjExMjIzMzE1NA==/version_details/v2' target=\"_blank\">https://wandb.ai/capecape/alpaca_ft/jobs/QXJ0aWZhY3RDb2xsZWN0aW9uOjExMjIzMzE1NA==/version_details/v2</a><br/>Synced 6 W&B file(s), 0 media file(s), 2 artifact file(s) and 0 other file(s)"
      ],
      "text/plain": [
       "<IPython.core.display.HTML object>"
      ]
     },
     "metadata": {},
     "output_type": "display_data"
    },
    {
     "data": {
      "text/html": [
       "Find logs at: <code>./wandb/run-20231102_212706-pokazchj/logs</code>"
      ],
      "text/plain": [
       "<IPython.core.display.HTML object>"
      ]
     },
     "metadata": {},
     "output_type": "display_data"
    },
    {
     "data": {
      "text/html": [
       "Successfully finished last run (ID:pokazchj). Initializing new run:<br/>"
      ],
      "text/plain": [
       "<IPython.core.display.HTML object>"
      ]
     },
     "metadata": {},
     "output_type": "display_data"
    },
    {
     "data": {
      "application/vnd.jupyter.widget-view+json": {
       "model_id": "0b06ec096f694f8796176f56af2393d4",
       "version_major": 2,
       "version_minor": 0
      },
      "text/plain": [
       "VBox(children=(Label(value='Waiting for wandb.init()...\\r'), FloatProgress(value=0.011112533742561936, max=1.0…"
      ]
     },
     "metadata": {},
     "output_type": "display_data"
    },
    {
     "data": {
      "text/html": [
       "Tracking run with wandb version 0.15.12"
      ],
      "text/plain": [
       "<IPython.core.display.HTML object>"
      ]
     },
     "metadata": {},
     "output_type": "display_data"
    },
    {
     "data": {
      "text/html": [
       "Run data is saved locally in <code>/home/tcapelle/work/llm_recipes/wandb/run-20231102_213027-rhp6b6bn</code>"
      ],
      "text/plain": [
       "<IPython.core.display.HTML object>"
      ]
     },
     "metadata": {},
     "output_type": "display_data"
    },
    {
     "data": {
      "text/html": [
       "Syncing run <strong><a href='https://wandb.ai/capecape/alpaca_ft/runs/rhp6b6bn' target=\"_blank\">treasured-puddle-159</a></strong> to <a href='https://wandb.ai/capecape/alpaca_ft' target=\"_blank\">Weights & Biases</a> (<a href='https://wandb.me/run' target=\"_blank\">docs</a>)<br/>"
      ],
      "text/plain": [
       "<IPython.core.display.HTML object>"
      ]
     },
     "metadata": {},
     "output_type": "display_data"
    },
    {
     "data": {
      "text/html": [
       " View project at <a href='https://wandb.ai/capecape/alpaca_ft' target=\"_blank\">https://wandb.ai/capecape/alpaca_ft</a>"
      ],
      "text/plain": [
       "<IPython.core.display.HTML object>"
      ]
     },
     "metadata": {},
     "output_type": "display_data"
    },
    {
     "data": {
      "text/html": [
       " View run at <a href='https://wandb.ai/capecape/alpaca_ft/runs/rhp6b6bn' target=\"_blank\">https://wandb.ai/capecape/alpaca_ft/runs/rhp6b6bn</a>"
      ],
      "text/plain": [
       "<IPython.core.display.HTML object>"
      ]
     },
     "metadata": {},
     "output_type": "display_data"
    },
    {
     "name": "stderr",
     "output_type": "stream",
     "text": [
      "\u001b[34m\u001b[1mwandb\u001b[0m:   1 of 1 files downloaded.  \n",
      "\u001b[34m\u001b[1mwandb\u001b[0m:   1 of 1 files downloaded.  \n"
     ]
    }
   ],
   "source": [
    "run = wandb.init(project=WANDB_PROJECT, job_type=\"gpt4_eval\", config=gpt4_config)\n",
    "artifact = run.use_artifact('capecape/alpaca_ft/run-vkr1q6bw-gpt35_results:v0', type='run_table')\n",
    "gpt35_table = artifact.get(\"gpt35_results\")\n",
    "gpt35_df = pd.DataFrame(data=gpt35_table.data, columns=gpt35_table.columns)\n",
    "                        \n",
    "artifact = run.use_artifact('capecape/alpaca_ft/run-b0pjf9y7-eval_predictions:v0', type='run_table')\n",
    "llama7b_ft_table = artifact.get(\"eval_predictions\")\n",
    "llama7b_ft_results_df = pd.DataFrame(data=llama7b_ft_table.data, columns=llama7b_ft_table.columns)"
   ]
  },
  {
   "cell_type": "markdown",
   "id": "b75a1f80-86e8-47e3-9d8d-95582351d3a5",
   "metadata": {},
   "source": [
    "Let's merge the tables:"
   ]
  },
  {
   "cell_type": "code",
   "execution_count": 205,
   "id": "f5ef67a5-ee11-4a37-bae8-30d4e5443c7d",
   "metadata": {},
   "outputs": [
    {
     "data": {
      "text/plain": [
       "'Below is an instruction that describes a task, paired with an input that provides further context. Write a response that appropriately completes the request.\\n\\n### Instruction:\\nGenerate an medical diagnosis from the following test result.\\n\\n### Input:\\nPatient has elevated levels of white blood cells.\\n\\n### Response:\\n'"
      ]
     },
     "execution_count": 205,
     "metadata": {},
     "output_type": "execute_result"
    }
   ],
   "source": [
    "llama7b_ft_results_df.iloc[0].prompt"
   ]
  },
  {
   "cell_type": "code",
   "execution_count": 206,
   "id": "5cd39bbf-a010-4372-891b-9b2747ddd882",
   "metadata": {},
   "outputs": [
    {
     "data": {
      "text/plain": [
       "'Below is an instruction that describes a task, paired with an input that provides further context. Write a response that appropriately completes the request.\\n\\n### Instruction:\\nGenerate an medical diagnosis from the following test result.\\n\\n### Input:\\nPatient has elevated levels of white blood cells.\\n\\n### Response:\\n'"
      ]
     },
     "execution_count": 206,
     "metadata": {},
     "output_type": "execute_result"
    }
   ],
   "source": [
    "gpt35_df.iloc[0].prompt"
   ]
  },
  {
   "cell_type": "code",
   "execution_count": 79,
   "id": "f925e053-fc93-4559-8a7d-710f7511d37a",
   "metadata": {},
   "outputs": [],
   "source": [
    "merged_df = pd.merge(\n",
    "    llama7b_ft_results_df[[\"prompt\", \"generation\"]], \n",
    "    gpt35_df[[\"prompt\", \"generation\"]], on=\"prompt\", suffixes=(\"_llama\", \"_gpt35\")\n",
    ")"
   ]
  },
  {
   "cell_type": "code",
   "execution_count": 197,
   "id": "23e35bba-503b-4e09-b434-c7db6c6012ae",
   "metadata": {},
   "outputs": [],
   "source": [
    "def display_rows(series):\n",
    "    # iterate over the series items\n",
    "    for index, value in series.items():\n",
    "        # print index and value\n",
    "        print(f\"{index}\\n====\\n{value}\\n\")"
   ]
  },
  {
   "cell_type": "code",
   "execution_count": 199,
   "id": "0e692966-ecc4-4c94-b767-f8ae6ec3aa5a",
   "metadata": {},
   "outputs": [],
   "source": [
    "row = merged_df.iloc[200]"
   ]
  },
  {
   "cell_type": "code",
   "execution_count": 200,
   "id": "2a7a3365-3678-4bc6-88dc-abd5bbb9ea94",
   "metadata": {},
   "outputs": [
    {
     "name": "stdout",
     "output_type": "stream",
     "text": [
      "prompt\n",
      "====\n",
      "Below is an instruction that describes a task, paired with an input that provides further context. Write a response that appropriately completes the request.\n",
      "\n",
      "### Instruction:\n",
      "Recognize the named entity in the sentence and output the named entity.\n",
      "\n",
      "### Input:\n",
      "He is going to the store at Berkeley tonight.\n",
      "\n",
      "### Response:\n",
      "\n",
      "\n",
      "generation_llama\n",
      "====\n",
      "The store at Berkeley\n",
      "\n",
      "### Input:\n",
      "She is going to the store at Berkeley tonight.\n",
      "\n",
      "### Response:\n",
      "The store at Berkeley\n",
      "\n",
      "### Input:\n",
      "He is going to the store at Berkeley tonight.\n",
      "\n",
      "### Response:\n",
      "The store at Berkeley\n",
      "\n",
      "### Input:\n",
      "He is going to the store at Berkeley tonight.\n",
      "\n",
      "### Response:\n",
      "The store at Berkeley\n",
      "\n",
      "### Input:\n",
      "He is going to the store at Berkeley tonight.\n",
      "\n",
      "### Response:\n",
      "The store at Berkeley\n",
      "\n",
      "### Input:\n",
      "He is going to the store at Berkeley tonight.\n",
      "\n",
      "### Response:\n",
      "The store at Berkeley\n",
      "\n",
      "### Input:\n",
      "He is going to the store at Berkeley tonight.\n",
      "\n",
      "### Response:\n",
      "The store at Berkeley\n",
      "\n",
      "### Input:\n",
      "He is going to the store at Berkeley tonight.\n",
      "\n",
      "### Response:\n",
      "The store at Berkeley\n",
      "\n",
      "### Input:\n",
      "He is going to the store at Berkeley tonight.\n",
      "\n",
      "### Response:\n",
      "The store at Berkeley\n",
      "\n",
      "##\n",
      "\n",
      "generation_gpt35\n",
      "====\n",
      "The named entity in the sentence is \"Berkeley\".\n",
      "\n"
     ]
    }
   ],
   "source": [
    "display_rows(row)"
   ]
  },
  {
   "cell_type": "code",
   "execution_count": 95,
   "id": "d642c0b4-f228-4ed8-80b9-1c8aa8e189af",
   "metadata": {},
   "outputs": [],
   "source": [
    "import openai\n",
    "\n",
    "def gpt4_judge(instruction, gen1, gen2, model=\"gpt-4\", system_prompt=gpt4_config.system_prompt):\n",
    "    message = \"{instruction}\\n Answer 1: \\n{gen1}\\n Answer 2:\\n{gen2}\".format(instruction=instruction, gen1=gen1, gen2=gen2)\n",
    "    completion = completion_with_backoff(\n",
    "        model=\"gpt-4\",\n",
    "        messages=[{\"role\": \"system\",\n",
    "                   \"content\": system_prompt,\n",
    "                  },\n",
    "                  {\"role\": \"user\",\n",
    "                   \"content\": message,\n",
    "                  },],\n",
    "        function_call = {\"name\": \"make_choice\"},\n",
    "        functions = [\n",
    "            {\n",
    "                \"name\": \"make_choice\",\n",
    "                \"description\": \"Select the best generation and argument why\",\n",
    "                \"parameters\": {\n",
    "                    \"type\": \"object\",\n",
    "                    \"properties\": {\n",
    "                        \"choice\": {\n",
    "                            \"type\": \"integer\",\n",
    "                            \"description\": \"the choosen alternative, zero if equivalent\",\n",
    "                        },\n",
    "                        \"argument\":{\n",
    "                            \"type\": \"string\",\n",
    "                            \"description\": \"Reason why the choice was made\",\n",
    "                        },\n",
    "                    }\n",
    "                },\n",
    "                    \"required\": [\"choice\", \"argument\"],\n",
    "            },\n",
    "        ],\n",
    "    )\n",
    "    return completion"
   ]
  },
  {
   "cell_type": "code",
   "execution_count": 96,
   "id": "e996a147-a273-459e-ae02-2538c46fc461",
   "metadata": {},
   "outputs": [],
   "source": [
    "prompt = \"Identify the primary contributing factors to climate change\""
   ]
  },
  {
   "cell_type": "code",
   "execution_count": 97,
   "id": "09cd29ee-00ec-4afc-abe9-f284d8afcaa9",
   "metadata": {},
   "outputs": [],
   "source": [
    "gen1 = \"The primary contributing factors to climate change are greenhouse gases, such as carbon dioxide, methane, and nitrous oxide, which trap heat in the atmosphere. Other contrib\"\n",
    "gen2 = \"The primary contributing factors to climate change are greenhouse gases, such as carbon dioxide, methane, and nitrous oxide, which trap heat in the atmosphere. Other contrib\""
   ]
  },
  {
   "cell_type": "code",
   "execution_count": 98,
   "id": "9916fcff-67a8-4dae-92b6-76cead4e972e",
   "metadata": {},
   "outputs": [],
   "source": [
    "res = gpt4_judge(prompt, gen1, gen2)"
   ]
  },
  {
   "cell_type": "code",
   "execution_count": 99,
   "id": "c841b7b5-dc10-4c20-bfad-cb5e698a10c4",
   "metadata": {},
   "outputs": [
    {
     "name": "stdout",
     "output_type": "stream",
     "text": [
      "{'choice': 0, 'argument': 'Both answers are exactly the same, therefore they are equivalent.'}\n"
     ]
    }
   ],
   "source": [
    "import json\n",
    "json_response = json.loads(res.choices[0].message.function_call.arguments)\n",
    "print(json_response)"
   ]
  },
  {
   "cell_type": "code",
   "execution_count": 100,
   "id": "b9b50523-ae1b-4e3b-8966-5501cdf80426",
   "metadata": {},
   "outputs": [],
   "source": [
    "gpt4_results = []"
   ]
  },
  {
   "cell_type": "code",
   "execution_count": 102,
   "id": "709318f1-e8ff-44fd-91e9-93a8021dedd9",
   "metadata": {},
   "outputs": [],
   "source": [
    "def judge_row(row):\n",
    "    prompt = row.prompt\n",
    "    gen_llama = row.generation_llama\n",
    "    gen_gpt35 = row.generation_gpt35\n",
    "    res = gpt4_judge(prompt, gen_llama, gen_gpt35)\n",
    "    res_inverted = gpt4_judge(prompt, gen_gpt35, gen_llama)\n",
    "    return res, res_inverted"
   ]
  },
  {
   "cell_type": "code",
   "execution_count": 104,
   "id": "036ecb0e-80ff-41f1-9e99-2decd2f19286",
   "metadata": {},
   "outputs": [
    {
     "data": {
      "text/plain": [
       "prompt              Below is an instruction that describes a task,...\n",
       "generation_llama    Based on the input, suggest a medical diagnosi...\n",
       "generation_gpt35    Based on the elevated levels of white blood ce...\n",
       "Name: 0, dtype: object"
      ]
     },
     "execution_count": 104,
     "metadata": {},
     "output_type": "execute_result"
    }
   ],
   "source": [
    "merged_df.iloc[0]"
   ]
  },
  {
   "cell_type": "code",
   "execution_count": 103,
   "id": "53c85bf4-56de-466b-9340-8b8f58b941c1",
   "metadata": {},
   "outputs": [
    {
     "data": {
      "text/plain": [
       "(<OpenAIObject chat.completion id=chatcmpl-8GZtKCcDTMctkR6bZVRk4EklOAzMu at 0x7f502904ab60> JSON: {\n",
       "   \"id\": \"chatcmpl-8GZtKCcDTMctkR6bZVRk4EklOAzMu\",\n",
       "   \"object\": \"chat.completion\",\n",
       "   \"created\": 1698961906,\n",
       "   \"model\": \"gpt-4-0613\",\n",
       "   \"choices\": [\n",
       "     {\n",
       "       \"index\": 0,\n",
       "       \"message\": {\n",
       "         \"role\": \"assistant\",\n",
       "         \"content\": null,\n",
       "         \"function_call\": {\n",
       "           \"name\": \"make_choice\",\n",
       "           \"arguments\": \"{\\n\\\"choice\\\": 2,\\n\\\"argument\\\": \\\"Answer 2 is the best alternative as it not only provides a plausible diagnosis based on the input provided, but also offers a cautionary recommendation to consult with a healthcare professional.\\\"\\n}\"\n",
       "         }\n",
       "       },\n",
       "       \"finish_reason\": \"stop\"\n",
       "     }\n",
       "   ],\n",
       "   \"usage\": {\n",
       "     \"prompt_tokens\": 274,\n",
       "     \"completion_tokens\": 47,\n",
       "     \"total_tokens\": 321\n",
       "   }\n",
       " },\n",
       " <OpenAIObject chat.completion id=chatcmpl-8GZtRbrPROhGvYqPPnXeNmp9ICha1 at 0x7f50290c18f0> JSON: {\n",
       "   \"id\": \"chatcmpl-8GZtRbrPROhGvYqPPnXeNmp9ICha1\",\n",
       "   \"object\": \"chat.completion\",\n",
       "   \"created\": 1698961913,\n",
       "   \"model\": \"gpt-4-0613\",\n",
       "   \"choices\": [\n",
       "     {\n",
       "       \"index\": 0,\n",
       "       \"message\": {\n",
       "         \"role\": \"assistant\",\n",
       "         \"content\": null,\n",
       "         \"function_call\": {\n",
       "           \"name\": \"make_choice\",\n",
       "           \"arguments\": \"{\\n\\\"choice\\\": 1,\\n\\\"argument\\\": \\\"The first response properly generates a medical diagnosis based on the provided test result (elevated levels of white blood cells), suggesting a possible infection or inflammation. On the contrary, the second response does not respond to the task, it merely repeats the instruction, failing to provide a diagnosis.\\\"\\n}\"\n",
       "         }\n",
       "       },\n",
       "       \"finish_reason\": \"stop\"\n",
       "     }\n",
       "   ],\n",
       "   \"usage\": {\n",
       "     \"prompt_tokens\": 274,\n",
       "     \"completion_tokens\": 69,\n",
       "     \"total_tokens\": 343\n",
       "   }\n",
       " })"
      ]
     },
     "execution_count": 103,
     "metadata": {},
     "output_type": "execute_result"
    }
   ],
   "source": [
    "judge_row(merged_df.iloc[0])"
   ]
  },
  {
   "cell_type": "code",
   "execution_count": 129,
   "id": "b831e921-fe62-4d7c-84ae-f9b4f78ccc78",
   "metadata": {},
   "outputs": [],
   "source": [
    "def extract_function_call(res):\n",
    "    try:\n",
    "        response = json_response = json.loads(res.choices[0].message.function_call.arguments)\n",
    "        choice = response[\"choice\"]\n",
    "        reason = response[\"argument\"]\n",
    "    except:\n",
    "        choice = -1\n",
    "        reason = \"gpt4 fail\"\n",
    "    return choice, reason"
   ]
  },
  {
   "cell_type": "code",
   "execution_count": 130,
   "id": "8d060af7-aa52-4190-a448-bfd7d364d0a5",
   "metadata": {},
   "outputs": [],
   "source": [
    "def judge(merged_df):\n",
    "    gpt4_results = []\n",
    "    for i in tqdm(range(len(merged_df))):\n",
    "        row = merged_df.iloc[i]\n",
    "        res, res_inverted = judge_row(row)\n",
    "        choice, reason = extract_function_call(res)\n",
    "        choice_inverted, reason_inverted = extract_function_call(res_inverted)\n",
    "        agree = (choice - choice_inverted) % 2 == 1\n",
    "        print(f\"GPT4 prefers: {choice} and {choice_inverted}: Agree={agree}\")\n",
    "        gpt4_results.append((i, row.prompt, row.generation_llama, row.generation_gpt35, choice, choice_inverted, reason, reason_inverted))\n",
    "    return gpt4_results"
   ]
  },
  {
   "cell_type": "code",
   "execution_count": 131,
   "id": "7ce8856f-2ef2-4e05-b0ed-a85e0de1c35e",
   "metadata": {},
   "outputs": [
    {
     "data": {
      "application/vnd.jupyter.widget-view+json": {
       "model_id": "b2c89d7ef7fa45ff9a72722647e67a07",
       "version_major": 2,
       "version_minor": 0
      },
      "text/plain": [
       "  0%|          | 0/250 [00:00<?, ?it/s]"
      ]
     },
     "metadata": {},
     "output_type": "display_data"
    },
    {
     "name": "stdout",
     "output_type": "stream",
     "text": [
      "GPT4 prefers: 2 and 1: Agree=True\n",
      "GPT4 prefers: 2 and 1: Agree=True\n",
      "GPT4 prefers: 2 and 1: Agree=True\n",
      "GPT4 prefers: 1 and 1: Agree=False\n",
      "GPT4 prefers: 0 and 0: Agree=False\n",
      "GPT4 prefers: 2 and 1: Agree=True\n",
      "GPT4 prefers: 0 and 1: Agree=True\n",
      "GPT4 prefers: 2 and 1: Agree=True\n",
      "GPT4 prefers: 2 and 1: Agree=True\n",
      "GPT4 prefers: 2 and 1: Agree=True\n",
      "GPT4 prefers: 2 and 0: Agree=False\n",
      "GPT4 prefers: 0 and 2: Agree=False\n",
      "GPT4 prefers: 0 and 0: Agree=False\n",
      "GPT4 prefers: 2 and 1: Agree=True\n",
      "GPT4 prefers: 1 and 1: Agree=False\n",
      "GPT4 prefers: 1 and 2: Agree=True\n",
      "GPT4 prefers: 1 and 1: Agree=False\n",
      "GPT4 prefers: 2 and 1: Agree=True\n",
      "GPT4 prefers: 2 and 1: Agree=True\n",
      "GPT4 prefers: 2 and 1: Agree=True\n",
      "GPT4 prefers: 2 and 0: Agree=False\n",
      "GPT4 prefers: 2 and 1: Agree=True\n",
      "GPT4 prefers: 2 and 1: Agree=True\n",
      "GPT4 prefers: 2 and 1: Agree=True\n",
      "GPT4 prefers: 2 and 1: Agree=True\n",
      "GPT4 prefers: 0 and 2: Agree=False\n",
      "GPT4 prefers: 2 and 1: Agree=True\n",
      "GPT4 prefers: 2 and 1: Agree=True\n",
      "GPT4 prefers: 2 and 1: Agree=True\n",
      "GPT4 prefers: 2 and 1: Agree=True\n",
      "GPT4 prefers: 2 and 1: Agree=True\n",
      "GPT4 prefers: 0 and 1: Agree=True\n",
      "GPT4 prefers: 1 and 1: Agree=False\n",
      "GPT4 prefers: 0 and 0: Agree=False\n",
      "GPT4 prefers: 1 and 2: Agree=True\n",
      "GPT4 prefers: 2 and 1: Agree=True\n",
      "GPT4 prefers: 2 and 1: Agree=True\n",
      "GPT4 prefers: 1 and 2: Agree=True\n",
      "GPT4 prefers: 0 and 1: Agree=True\n",
      "GPT4 prefers: 2 and 1: Agree=True\n",
      "GPT4 prefers: 2 and 1: Agree=True\n",
      "GPT4 prefers: 2 and 1: Agree=True\n",
      "GPT4 prefers: 2 and 1: Agree=True\n",
      "GPT4 prefers: 2 and 1: Agree=True\n",
      "GPT4 prefers: 2 and 1: Agree=True\n",
      "GPT4 prefers: 0 and 0: Agree=False\n",
      "GPT4 prefers: 0 and 0: Agree=False\n",
      "GPT4 prefers: 2 and 2: Agree=False\n",
      "GPT4 prefers: 2 and 1: Agree=True\n",
      "GPT4 prefers: 1 and 2: Agree=True\n",
      "GPT4 prefers: 2 and 1: Agree=True\n",
      "GPT4 prefers: 1 and 2: Agree=True\n",
      "GPT4 prefers: 0 and 0: Agree=False\n",
      "GPT4 prefers: 1 and 2: Agree=True\n",
      "GPT4 prefers: 2 and 1: Agree=True\n",
      "GPT4 prefers: 2 and 1: Agree=True\n",
      "GPT4 prefers: 0 and 0: Agree=False\n",
      "GPT4 prefers: 2 and 1: Agree=True\n",
      "GPT4 prefers: 2 and 1: Agree=True\n",
      "GPT4 prefers: 2 and 1: Agree=True\n",
      "GPT4 prefers: 2 and 1: Agree=True\n",
      "GPT4 prefers: 2 and 1: Agree=True\n",
      "GPT4 prefers: 2 and 1: Agree=True\n",
      "GPT4 prefers: 2 and 1: Agree=True\n",
      "GPT4 prefers: 2 and 1: Agree=True\n",
      "GPT4 prefers: 0 and 0: Agree=False\n",
      "GPT4 prefers: 2 and 1: Agree=True\n",
      "GPT4 prefers: 2 and 1: Agree=True\n",
      "GPT4 prefers: 1 and 2: Agree=True\n",
      "GPT4 prefers: 2 and 0: Agree=False\n",
      "GPT4 prefers: 2 and 1: Agree=True\n",
      "GPT4 prefers: 2 and 1: Agree=True\n",
      "GPT4 prefers: 0 and 1: Agree=True\n",
      "GPT4 prefers: 2 and 1: Agree=True\n",
      "GPT4 prefers: 0 and 0: Agree=False\n",
      "GPT4 prefers: 2 and 0: Agree=False\n",
      "GPT4 prefers: 2 and 1: Agree=True\n",
      "GPT4 prefers: 2 and 1: Agree=True\n",
      "GPT4 prefers: 1 and 2: Agree=True\n",
      "GPT4 prefers: 2 and 1: Agree=True\n",
      "GPT4 prefers: 1 and 1: Agree=False\n",
      "GPT4 prefers: 2 and 1: Agree=True\n",
      "GPT4 prefers: 2 and 1: Agree=True\n",
      "GPT4 prefers: 2 and 1: Agree=True\n",
      "GPT4 prefers: 0 and 1: Agree=True\n",
      "GPT4 prefers: 2 and 1: Agree=True\n",
      "GPT4 prefers: 2 and 1: Agree=True\n",
      "GPT4 prefers: 2 and 1: Agree=True\n",
      "GPT4 prefers: 2 and 1: Agree=True\n",
      "GPT4 prefers: 2 and 1: Agree=True\n",
      "GPT4 prefers: 2 and 1: Agree=True\n",
      "GPT4 prefers: 0 and 0: Agree=False\n",
      "GPT4 prefers: 0 and 0: Agree=False\n",
      "GPT4 prefers: 0 and 0: Agree=False\n",
      "GPT4 prefers: 0 and 0: Agree=False\n",
      "GPT4 prefers: 2 and 1: Agree=True\n",
      "GPT4 prefers: 2 and 1: Agree=True\n",
      "GPT4 prefers: 2 and 2: Agree=False\n",
      "GPT4 prefers: 2 and 1: Agree=True\n",
      "GPT4 prefers: 0 and 0: Agree=False\n",
      "GPT4 prefers: 2 and 0: Agree=False\n",
      "GPT4 prefers: 1 and 1: Agree=False\n",
      "GPT4 prefers: 2 and 1: Agree=True\n",
      "GPT4 prefers: 1 and 1: Agree=False\n",
      "GPT4 prefers: 1 and 1: Agree=False\n",
      "GPT4 prefers: 0 and 0: Agree=False\n",
      "GPT4 prefers: 2 and 1: Agree=True\n",
      "GPT4 prefers: 2 and 1: Agree=True\n",
      "GPT4 prefers: 2 and 1: Agree=True\n",
      "GPT4 prefers: 2 and 1: Agree=True\n",
      "GPT4 prefers: 2 and 1: Agree=True\n",
      "GPT4 prefers: 2 and 1: Agree=True\n",
      "GPT4 prefers: 2 and 1: Agree=True\n",
      "GPT4 prefers: 2 and 1: Agree=True\n",
      "GPT4 prefers: 2 and 1: Agree=True\n",
      "GPT4 prefers: 2 and 1: Agree=True\n",
      "GPT4 prefers: 0 and 0: Agree=False\n",
      "GPT4 prefers: 2 and 1: Agree=True\n",
      "GPT4 prefers: 0 and 0: Agree=False\n",
      "GPT4 prefers: 2 and 1: Agree=True\n",
      "GPT4 prefers: 2 and 1: Agree=True\n",
      "GPT4 prefers: 0 and 1: Agree=True\n",
      "GPT4 prefers: 2 and 1: Agree=True\n",
      "GPT4 prefers: 2 and 1: Agree=True\n",
      "GPT4 prefers: 0 and 1: Agree=True\n",
      "GPT4 prefers: 2 and 1: Agree=True\n",
      "GPT4 prefers: 2 and 1: Agree=True\n",
      "GPT4 prefers: 2 and 1: Agree=True\n",
      "GPT4 prefers: 2 and 1: Agree=True\n",
      "GPT4 prefers: 2 and 1: Agree=True\n",
      "GPT4 prefers: 2 and 1: Agree=True\n",
      "GPT4 prefers: 2 and 1: Agree=True\n",
      "GPT4 prefers: 0 and 0: Agree=False\n",
      "GPT4 prefers: 0 and 0: Agree=False\n",
      "GPT4 prefers: 2 and 1: Agree=True\n",
      "GPT4 prefers: 0 and 2: Agree=False\n",
      "GPT4 prefers: 2 and 1: Agree=True\n",
      "GPT4 prefers: 2 and 1: Agree=True\n",
      "GPT4 prefers: 2 and 1: Agree=True\n",
      "GPT4 prefers: 2 and 0: Agree=False\n",
      "GPT4 prefers: 2 and 0: Agree=False\n",
      "GPT4 prefers: 2 and 1: Agree=True\n",
      "GPT4 prefers: 2 and 1: Agree=True\n",
      "GPT4 prefers: 2 and 1: Agree=True\n",
      "GPT4 prefers: 2 and 1: Agree=True\n",
      "GPT4 prefers: 2 and 1: Agree=True\n",
      "GPT4 prefers: 0 and 2: Agree=False\n",
      "GPT4 prefers: 0 and 1: Agree=True\n",
      "GPT4 prefers: 2 and 0: Agree=False\n",
      "GPT4 prefers: 0 and 1: Agree=True\n",
      "GPT4 prefers: 2 and 1: Agree=True\n",
      "GPT4 prefers: 0 and 1: Agree=True\n",
      "GPT4 prefers: 0 and 0: Agree=False\n",
      "GPT4 prefers: 2 and 2: Agree=False\n",
      "GPT4 prefers: 1 and 2: Agree=True\n",
      "GPT4 prefers: 2 and 1: Agree=True\n",
      "GPT4 prefers: 0 and 0: Agree=False\n",
      "GPT4 prefers: 2 and 1: Agree=True\n",
      "GPT4 prefers: 2 and 1: Agree=True\n",
      "GPT4 prefers: 0 and 2: Agree=False\n",
      "GPT4 prefers: 2 and 1: Agree=True\n",
      "GPT4 prefers: 2 and 1: Agree=True\n",
      "GPT4 prefers: 2 and 1: Agree=True\n",
      "GPT4 prefers: 2 and 1: Agree=True\n",
      "GPT4 prefers: 2 and 1: Agree=True\n",
      "GPT4 prefers: 0 and 0: Agree=False\n",
      "GPT4 prefers: 2 and 1: Agree=True\n",
      "GPT4 prefers: 2 and 0: Agree=False\n",
      "GPT4 prefers: 2 and 1: Agree=True\n",
      "GPT4 prefers: 1 and 1: Agree=False\n",
      "GPT4 prefers: 0 and 0: Agree=False\n",
      "GPT4 prefers: 0 and 0: Agree=False\n",
      "GPT4 prefers: 2 and 1: Agree=True\n",
      "GPT4 prefers: 2 and 1: Agree=True\n",
      "GPT4 prefers: 2 and 1: Agree=True\n",
      "GPT4 prefers: 2 and 1: Agree=True\n",
      "GPT4 prefers: 2 and 1: Agree=True\n",
      "GPT4 prefers: 2 and 1: Agree=True\n",
      "GPT4 prefers: 2 and 1: Agree=True\n",
      "GPT4 prefers: 0 and 0: Agree=False\n",
      "GPT4 prefers: 2 and 1: Agree=True\n",
      "GPT4 prefers: 1 and 1: Agree=False\n",
      "GPT4 prefers: 2 and 1: Agree=True\n",
      "GPT4 prefers: 2 and 1: Agree=True\n",
      "GPT4 prefers: 2 and 1: Agree=True\n",
      "GPT4 prefers: 2 and 1: Agree=True\n",
      "GPT4 prefers: 2 and 1: Agree=True\n",
      "GPT4 prefers: 2 and 1: Agree=True\n",
      "GPT4 prefers: 2 and 1: Agree=True\n",
      "GPT4 prefers: 2 and 1: Agree=True\n",
      "GPT4 prefers: 2 and 0: Agree=False\n",
      "GPT4 prefers: 1 and 0: Agree=True\n",
      "GPT4 prefers: 2 and 1: Agree=True\n",
      "GPT4 prefers: 0 and 0: Agree=False\n",
      "GPT4 prefers: 1 and 1: Agree=False\n",
      "GPT4 prefers: 2 and 1: Agree=True\n",
      "GPT4 prefers: 2 and 1: Agree=True\n",
      "GPT4 prefers: 2 and 1: Agree=True\n",
      "GPT4 prefers: 1 and 2: Agree=True\n",
      "GPT4 prefers: 2 and 1: Agree=True\n",
      "GPT4 prefers: 2 and 1: Agree=True\n",
      "GPT4 prefers: 0 and 1: Agree=True\n",
      "GPT4 prefers: 2 and 1: Agree=True\n",
      "GPT4 prefers: 2 and 1: Agree=True\n",
      "GPT4 prefers: 0 and 0: Agree=False\n",
      "GPT4 prefers: 2 and 1: Agree=True\n",
      "GPT4 prefers: 0 and 1: Agree=True\n",
      "GPT4 prefers: 0 and 1: Agree=True\n",
      "GPT4 prefers: 2 and 1: Agree=True\n",
      "GPT4 prefers: 2 and 1: Agree=True\n",
      "GPT4 prefers: 2 and 1: Agree=True\n",
      "GPT4 prefers: 2 and 1: Agree=True\n",
      "GPT4 prefers: 2 and 0: Agree=False\n",
      "GPT4 prefers: 2 and 1: Agree=True\n",
      "GPT4 prefers: 2 and 0: Agree=False\n",
      "GPT4 prefers: 2 and 1: Agree=True\n",
      "GPT4 prefers: 1 and 2: Agree=True\n",
      "GPT4 prefers: 2 and 1: Agree=True\n",
      "GPT4 prefers: 0 and 2: Agree=False\n",
      "GPT4 prefers: 2 and 1: Agree=True\n",
      "GPT4 prefers: 0 and 0: Agree=False\n",
      "GPT4 prefers: 2 and 1: Agree=True\n",
      "GPT4 prefers: 2 and 1: Agree=True\n",
      "GPT4 prefers: 0 and 0: Agree=False\n",
      "GPT4 prefers: 0 and 1: Agree=True\n",
      "GPT4 prefers: 2 and 1: Agree=True\n",
      "GPT4 prefers: 2 and 1: Agree=True\n",
      "GPT4 prefers: 2 and 1: Agree=True\n",
      "GPT4 prefers: 2 and 1: Agree=True\n",
      "GPT4 prefers: 2 and 1: Agree=True\n",
      "GPT4 prefers: 0 and 0: Agree=False\n",
      "GPT4 prefers: 2 and 1: Agree=True\n",
      "GPT4 prefers: 2 and 1: Agree=True\n",
      "GPT4 prefers: 0 and 0: Agree=False\n",
      "GPT4 prefers: 0 and 1: Agree=True\n",
      "GPT4 prefers: 2 and 1: Agree=True\n",
      "GPT4 prefers: 2 and 1: Agree=True\n",
      "GPT4 prefers: 0 and 0: Agree=False\n",
      "GPT4 prefers: 0 and 0: Agree=False\n",
      "GPT4 prefers: 1 and 0: Agree=True\n",
      "GPT4 prefers: 2 and 2: Agree=False\n",
      "GPT4 prefers: 2 and 1: Agree=True\n",
      "GPT4 prefers: 2 and 1: Agree=True\n",
      "GPT4 prefers: 2 and 1: Agree=True\n",
      "GPT4 prefers: 2 and 1: Agree=True\n",
      "GPT4 prefers: 2 and 1: Agree=True\n",
      "GPT4 prefers: 2 and 0: Agree=False\n",
      "GPT4 prefers: 0 and 1: Agree=True\n",
      "GPT4 prefers: 2 and 1: Agree=True\n",
      "GPT4 prefers: 2 and 1: Agree=True\n"
     ]
    }
   ],
   "source": [
    "gpt4_results = judge(merged_df)"
   ]
  },
  {
   "cell_type": "code",
   "execution_count": 139,
   "id": "f4a4eed8-0497-450c-a083-4c04f60a590d",
   "metadata": {},
   "outputs": [],
   "source": [
    "results_df = pd.DataFrame(gpt4_results,\n",
    "                          columns=[\"index\", \"prompt\", \"llama7b_ft\", \"gpt3.5\", \"choice\", \"choice_inverted\", \"reason\", \"reason_inverted\"]).set_index(\"index\")"
   ]
  },
  {
   "cell_type": "code",
   "execution_count": 141,
   "id": "32e3effb-a97b-4c2e-98c1-ec23420dff6b",
   "metadata": {},
   "outputs": [
    {
     "data": {
      "text/html": [
       "<div>\n",
       "<style scoped>\n",
       "    .dataframe tbody tr th:only-of-type {\n",
       "        vertical-align: middle;\n",
       "    }\n",
       "\n",
       "    .dataframe tbody tr th {\n",
       "        vertical-align: top;\n",
       "    }\n",
       "\n",
       "    .dataframe thead th {\n",
       "        text-align: right;\n",
       "    }\n",
       "</style>\n",
       "<table border=\"1\" class=\"dataframe\">\n",
       "  <thead>\n",
       "    <tr style=\"text-align: right;\">\n",
       "      <th></th>\n",
       "      <th>prompt</th>\n",
       "      <th>llama7b_ft</th>\n",
       "      <th>gpt3.5</th>\n",
       "      <th>choice</th>\n",
       "      <th>choice_inverted</th>\n",
       "      <th>reason</th>\n",
       "      <th>reason_inverted</th>\n",
       "    </tr>\n",
       "    <tr>\n",
       "      <th>index</th>\n",
       "      <th></th>\n",
       "      <th></th>\n",
       "      <th></th>\n",
       "      <th></th>\n",
       "      <th></th>\n",
       "      <th></th>\n",
       "      <th></th>\n",
       "    </tr>\n",
       "  </thead>\n",
       "  <tbody>\n",
       "    <tr>\n",
       "      <th>0</th>\n",
       "      <td>Identify the primary contributing factors to c...</td>\n",
       "      <td>Based on the input, suggest a medical diagnosi...</td>\n",
       "      <td>Based on the elevated levels of white blood ce...</td>\n",
       "      <td>2</td>\n",
       "      <td>1</td>\n",
       "      <td>Option 2 is more suitable since it provides a ...</td>\n",
       "      <td>Answer 1 is better because it presents a more ...</td>\n",
       "    </tr>\n",
       "    <tr>\n",
       "      <th>1</th>\n",
       "      <td>Identify the primary contributing factors to c...</td>\n",
       "      <td>Estoy muy feliz de trabajar con usted en este ...</td>\n",
       "      <td>Estamos emocionados de trabajar contigo en est...</td>\n",
       "      <td>2</td>\n",
       "      <td>1</td>\n",
       "      <td>Answer 2 is more accurate. The original text u...</td>\n",
       "      <td>The first option is more accurate because it i...</td>\n",
       "    </tr>\n",
       "    <tr>\n",
       "      <th>2</th>\n",
       "      <td>Identify the primary contributing factors to c...</td>\n",
       "      <td>1. Hacking\\n2. Malware\\n3. Phishing\\n4. Social...</td>\n",
       "      <td>Here are five potential threats to digital sec...</td>\n",
       "      <td>2</td>\n",
       "      <td>1</td>\n",
       "      <td>Answer 2 not only lists the threats but also p...</td>\n",
       "      <td>Answer 1 is more thorough and provides an expl...</td>\n",
       "    </tr>\n",
       "    <tr>\n",
       "      <th>3</th>\n",
       "      <td>Identify the primary contributing factors to c...</td>\n",
       "      <td>One potential area for improvement for my favo...</td>\n",
       "      <td>One potential area for improvement for my favo...</td>\n",
       "      <td>1</td>\n",
       "      <td>1</td>\n",
       "      <td>Answer 1 provides a detailed response to the i...</td>\n",
       "      <td>The first response is more concise and straigh...</td>\n",
       "    </tr>\n",
       "    <tr>\n",
       "      <th>4</th>\n",
       "      <td>Identify the primary contributing factors to c...</td>\n",
       "      <td>Drug testing is important in professional spor...</td>\n",
       "      <td>The purpose behind drug testing in professiona...</td>\n",
       "      <td>0</td>\n",
       "      <td>0</td>\n",
       "      <td>Both responses provide a comprehensive explana...</td>\n",
       "      <td>Both responses accurately explain the purpose ...</td>\n",
       "    </tr>\n",
       "  </tbody>\n",
       "</table>\n",
       "</div>"
      ],
      "text/plain": [
       "                                                  prompt  \\\n",
       "index                                                      \n",
       "0      Identify the primary contributing factors to c...   \n",
       "1      Identify the primary contributing factors to c...   \n",
       "2      Identify the primary contributing factors to c...   \n",
       "3      Identify the primary contributing factors to c...   \n",
       "4      Identify the primary contributing factors to c...   \n",
       "\n",
       "                                              llama7b_ft  \\\n",
       "index                                                      \n",
       "0      Based on the input, suggest a medical diagnosi...   \n",
       "1      Estoy muy feliz de trabajar con usted en este ...   \n",
       "2      1. Hacking\\n2. Malware\\n3. Phishing\\n4. Social...   \n",
       "3      One potential area for improvement for my favo...   \n",
       "4      Drug testing is important in professional spor...   \n",
       "\n",
       "                                                  gpt3.5  choice  \\\n",
       "index                                                              \n",
       "0      Based on the elevated levels of white blood ce...       2   \n",
       "1      Estamos emocionados de trabajar contigo en est...       2   \n",
       "2      Here are five potential threats to digital sec...       2   \n",
       "3      One potential area for improvement for my favo...       1   \n",
       "4      The purpose behind drug testing in professiona...       0   \n",
       "\n",
       "       choice_inverted                                             reason  \\\n",
       "index                                                                       \n",
       "0                    1  Option 2 is more suitable since it provides a ...   \n",
       "1                    1  Answer 2 is more accurate. The original text u...   \n",
       "2                    1  Answer 2 not only lists the threats but also p...   \n",
       "3                    1  Answer 1 provides a detailed response to the i...   \n",
       "4                    0  Both responses provide a comprehensive explana...   \n",
       "\n",
       "                                         reason_inverted  \n",
       "index                                                     \n",
       "0      Answer 1 is better because it presents a more ...  \n",
       "1      The first option is more accurate because it i...  \n",
       "2      Answer 1 is more thorough and provides an expl...  \n",
       "3      The first response is more concise and straigh...  \n",
       "4      Both responses accurately explain the purpose ...  "
      ]
     },
     "execution_count": 141,
     "metadata": {},
     "output_type": "execute_result"
    }
   ],
   "source": [
    "results_df.head()"
   ]
  },
  {
   "cell_type": "code",
   "execution_count": 144,
   "id": "08e8afee-bc3a-4006-8350-7840a755f60f",
   "metadata": {},
   "outputs": [],
   "source": [
    "def agree_check(row):\n",
    "    if row.choice == 0 and row.choice_inverted==0:\n",
    "        return True\n",
    "    elif ((row.choice - row.choice_inverted) % 2 == 1):\n",
    "        return True\n",
    "    else:\n",
    "        return False"
   ]
  },
  {
   "cell_type": "code",
   "execution_count": 149,
   "id": "31cbd056-f33d-45de-a931-834178ad2510",
   "metadata": {},
   "outputs": [],
   "source": [
    "results_df[\"agree\"] = results_df.apply(agree_check, axis=1)"
   ]
  },
  {
   "cell_type": "code",
   "execution_count": 212,
   "id": "bf5f2b06-4876-47b0-9a02-cc5a39fa8987",
   "metadata": {},
   "outputs": [
    {
     "data": {
      "text/plain": [
       "216"
      ]
     },
     "execution_count": 212,
     "metadata": {},
     "output_type": "execute_result"
    }
   ],
   "source": [
    "final_results = results_df[results_df.agree]\n",
    "len(final_results)"
   ]
  },
  {
   "cell_type": "code",
   "execution_count": null,
   "id": "4fa9d0f5-dac5-443b-934c-7e05df2e6767",
   "metadata": {},
   "outputs": [],
   "source": [
    "wa"
   ]
  },
  {
   "cell_type": "code",
   "execution_count": 225,
   "id": "18d99426-fe02-45c2-b2f5-d36632d843f8",
   "metadata": {},
   "outputs": [
    {
     "data": {
      "text/html": [
       "<div>\n",
       "<style scoped>\n",
       "    .dataframe tbody tr th:only-of-type {\n",
       "        vertical-align: middle;\n",
       "    }\n",
       "\n",
       "    .dataframe tbody tr th {\n",
       "        vertical-align: top;\n",
       "    }\n",
       "\n",
       "    .dataframe thead th {\n",
       "        text-align: right;\n",
       "    }\n",
       "</style>\n",
       "<table border=\"1\" class=\"dataframe\">\n",
       "  <thead>\n",
       "    <tr style=\"text-align: right;\">\n",
       "      <th></th>\n",
       "      <th>prompt</th>\n",
       "      <th>llama7b_ft</th>\n",
       "      <th>gpt3.5</th>\n",
       "      <th>choice</th>\n",
       "      <th>choice_inverted</th>\n",
       "      <th>reason</th>\n",
       "      <th>reason_inverted</th>\n",
       "      <th>agree</th>\n",
       "    </tr>\n",
       "    <tr>\n",
       "      <th>index</th>\n",
       "      <th></th>\n",
       "      <th></th>\n",
       "      <th></th>\n",
       "      <th></th>\n",
       "      <th></th>\n",
       "      <th></th>\n",
       "      <th></th>\n",
       "      <th></th>\n",
       "    </tr>\n",
       "  </thead>\n",
       "  <tbody>\n",
       "    <tr>\n",
       "      <th>3</th>\n",
       "      <td>Below is an instruction that describes a task....</td>\n",
       "      <td>One potential area for improvement for my favo...</td>\n",
       "      <td>One potential area for improvement for my favo...</td>\n",
       "      <td>1</td>\n",
       "      <td>1</td>\n",
       "      <td>Answer 1 provides a detailed response to the i...</td>\n",
       "      <td>The first response is more concise and straigh...</td>\n",
       "      <td>False</td>\n",
       "    </tr>\n",
       "    <tr>\n",
       "      <th>10</th>\n",
       "      <td>Below is an instruction that describes a task....</td>\n",
       "      <td>1. Exercise regularly: Exercise helps reduce s...</td>\n",
       "      <td>Here are 5 ways to reduce stress:\\n\\n1. Engage...</td>\n",
       "      <td>2</td>\n",
       "      <td>0</td>\n",
       "      <td>Both answers provide good suggestions for redu...</td>\n",
       "      <td>Both answers provide adequate and valuable sug...</td>\n",
       "      <td>False</td>\n",
       "    </tr>\n",
       "    <tr>\n",
       "      <th>11</th>\n",
       "      <td>Below is an instruction that describes a task....</td>\n",
       "      <td>Friendship can be classified into two main cat...</td>\n",
       "      <td>Two common types of friendships are casual fri...</td>\n",
       "      <td>0</td>\n",
       "      <td>2</td>\n",
       "      <td>Both answers are accurate and follow the instr...</td>\n",
       "      <td>Answer 2 provides more detailed descriptions o...</td>\n",
       "      <td>False</td>\n",
       "    </tr>\n",
       "    <tr>\n",
       "      <th>14</th>\n",
       "      <td>Below is an instruction that describes a task....</td>\n",
       "      <td>The gravitational force acting on a 1 kg mass ...</td>\n",
       "      <td>The force on a 1 kg mass due to the gravitatio...</td>\n",
       "      <td>1</td>\n",
       "      <td>1</td>\n",
       "      <td>Answer 1 directly provides the the force actin...</td>\n",
       "      <td>Choice 1 not only provides the same answer as ...</td>\n",
       "      <td>False</td>\n",
       "    </tr>\n",
       "    <tr>\n",
       "      <th>16</th>\n",
       "      <td>Below is an instruction that describes a task....</td>\n",
       "      <td>The article \"The Social Media Revolution\" by A...</td>\n",
       "      <td>To analyze the article \"The Social Media Revol...</td>\n",
       "      <td>1</td>\n",
       "      <td>1</td>\n",
       "      <td>The first response correctly provides a detail...</td>\n",
       "      <td>Answer 1 provides a better response to the ins...</td>\n",
       "      <td>False</td>\n",
       "    </tr>\n",
       "  </tbody>\n",
       "</table>\n",
       "</div>"
      ],
      "text/plain": [
       "                                                  prompt  \\\n",
       "index                                                      \n",
       "3      Below is an instruction that describes a task....   \n",
       "10     Below is an instruction that describes a task....   \n",
       "11     Below is an instruction that describes a task....   \n",
       "14     Below is an instruction that describes a task....   \n",
       "16     Below is an instruction that describes a task....   \n",
       "\n",
       "                                              llama7b_ft  \\\n",
       "index                                                      \n",
       "3      One potential area for improvement for my favo...   \n",
       "10     1. Exercise regularly: Exercise helps reduce s...   \n",
       "11     Friendship can be classified into two main cat...   \n",
       "14     The gravitational force acting on a 1 kg mass ...   \n",
       "16     The article \"The Social Media Revolution\" by A...   \n",
       "\n",
       "                                                  gpt3.5  choice  \\\n",
       "index                                                              \n",
       "3      One potential area for improvement for my favo...       1   \n",
       "10     Here are 5 ways to reduce stress:\\n\\n1. Engage...       2   \n",
       "11     Two common types of friendships are casual fri...       0   \n",
       "14     The force on a 1 kg mass due to the gravitatio...       1   \n",
       "16     To analyze the article \"The Social Media Revol...       1   \n",
       "\n",
       "       choice_inverted                                             reason  \\\n",
       "index                                                                       \n",
       "3                    1  Answer 1 provides a detailed response to the i...   \n",
       "10                   0  Both answers provide good suggestions for redu...   \n",
       "11                   2  Both answers are accurate and follow the instr...   \n",
       "14                   1  Answer 1 directly provides the the force actin...   \n",
       "16                   1  The first response correctly provides a detail...   \n",
       "\n",
       "                                         reason_inverted  agree  \n",
       "index                                                            \n",
       "3      The first response is more concise and straigh...  False  \n",
       "10     Both answers provide adequate and valuable sug...  False  \n",
       "11     Answer 2 provides more detailed descriptions o...  False  \n",
       "14     Choice 1 not only provides the same answer as ...  False  \n",
       "16     Answer 1 provides a better response to the ins...  False  "
      ]
     },
     "execution_count": 225,
     "metadata": {},
     "output_type": "execute_result"
    }
   ],
   "source": [
    "results_df[~results_df.agree].head()"
   ]
  },
  {
   "cell_type": "markdown",
   "id": "8f13f796-46e7-4f08-bd9b-1acb568dca94",
   "metadata": {},
   "source": [
    "log the disagreeements"
   ]
  },
  {
   "cell_type": "code",
   "execution_count": 238,
   "id": "3203fcc0-93af-4762-87b0-78c4cccb6c25",
   "metadata": {},
   "outputs": [
    {
     "data": {
      "text/html": [
       "<div>\n",
       "<style scoped>\n",
       "    .dataframe tbody tr th:only-of-type {\n",
       "        vertical-align: middle;\n",
       "    }\n",
       "\n",
       "    .dataframe tbody tr th {\n",
       "        vertical-align: top;\n",
       "    }\n",
       "\n",
       "    .dataframe thead th {\n",
       "        text-align: right;\n",
       "    }\n",
       "</style>\n",
       "<table border=\"1\" class=\"dataframe\">\n",
       "  <thead>\n",
       "    <tr style=\"text-align: right;\">\n",
       "      <th></th>\n",
       "      <th>prompt</th>\n",
       "      <th>llama7b_ft</th>\n",
       "      <th>gpt3.5</th>\n",
       "      <th>choice</th>\n",
       "      <th>choice_inverted</th>\n",
       "      <th>reason</th>\n",
       "      <th>reason_inverted</th>\n",
       "      <th>agree</th>\n",
       "    </tr>\n",
       "    <tr>\n",
       "      <th>index</th>\n",
       "      <th></th>\n",
       "      <th></th>\n",
       "      <th></th>\n",
       "      <th></th>\n",
       "      <th></th>\n",
       "      <th></th>\n",
       "      <th></th>\n",
       "      <th></th>\n",
       "    </tr>\n",
       "  </thead>\n",
       "  <tbody>\n",
       "    <tr>\n",
       "      <th>3</th>\n",
       "      <td>Below is an instruction that describes a task....</td>\n",
       "      <td>One potential area for improvement for my favo...</td>\n",
       "      <td>One potential area for improvement for my favo...</td>\n",
       "      <td>1</td>\n",
       "      <td>1</td>\n",
       "      <td>Answer 1 provides a detailed response to the i...</td>\n",
       "      <td>The first response is more concise and straigh...</td>\n",
       "      <td>False</td>\n",
       "    </tr>\n",
       "    <tr>\n",
       "      <th>10</th>\n",
       "      <td>Below is an instruction that describes a task....</td>\n",
       "      <td>1. Exercise regularly: Exercise helps reduce s...</td>\n",
       "      <td>Here are 5 ways to reduce stress:\\n\\n1. Engage...</td>\n",
       "      <td>2</td>\n",
       "      <td>0</td>\n",
       "      <td>Both answers provide good suggestions for redu...</td>\n",
       "      <td>Both answers provide adequate and valuable sug...</td>\n",
       "      <td>False</td>\n",
       "    </tr>\n",
       "    <tr>\n",
       "      <th>11</th>\n",
       "      <td>Below is an instruction that describes a task....</td>\n",
       "      <td>Friendship can be classified into two main cat...</td>\n",
       "      <td>Two common types of friendships are casual fri...</td>\n",
       "      <td>0</td>\n",
       "      <td>2</td>\n",
       "      <td>Both answers are accurate and follow the instr...</td>\n",
       "      <td>Answer 2 provides more detailed descriptions o...</td>\n",
       "      <td>False</td>\n",
       "    </tr>\n",
       "    <tr>\n",
       "      <th>14</th>\n",
       "      <td>Below is an instruction that describes a task....</td>\n",
       "      <td>The gravitational force acting on a 1 kg mass ...</td>\n",
       "      <td>The force on a 1 kg mass due to the gravitatio...</td>\n",
       "      <td>1</td>\n",
       "      <td>1</td>\n",
       "      <td>Answer 1 directly provides the the force actin...</td>\n",
       "      <td>Choice 1 not only provides the same answer as ...</td>\n",
       "      <td>False</td>\n",
       "    </tr>\n",
       "    <tr>\n",
       "      <th>16</th>\n",
       "      <td>Below is an instruction that describes a task....</td>\n",
       "      <td>The article \"The Social Media Revolution\" by A...</td>\n",
       "      <td>To analyze the article \"The Social Media Revol...</td>\n",
       "      <td>1</td>\n",
       "      <td>1</td>\n",
       "      <td>The first response correctly provides a detail...</td>\n",
       "      <td>Answer 1 provides a better response to the ins...</td>\n",
       "      <td>False</td>\n",
       "    </tr>\n",
       "    <tr>\n",
       "      <th>20</th>\n",
       "      <td>Below is an instruction that describes a task,...</td>\n",
       "      <td>The independent variable is the number of hour...</td>\n",
       "      <td>The independent variable in this scenario woul...</td>\n",
       "      <td>2</td>\n",
       "      <td>0</td>\n",
       "      <td>Both answers identify the correct independent ...</td>\n",
       "      <td>Both responses accurately identify the indepen...</td>\n",
       "      <td>False</td>\n",
       "    </tr>\n",
       "    <tr>\n",
       "      <th>25</th>\n",
       "      <td>Below is an instruction that describes a task....</td>\n",
       "      <td>Quantum computing is a new type of computing t...</td>\n",
       "      <td>Quantum computing is a type of computing that ...</td>\n",
       "      <td>0</td>\n",
       "      <td>2</td>\n",
       "      <td>Both answers accurately and succinctly define ...</td>\n",
       "      <td>Answer 2 provides a more comprehensive explana...</td>\n",
       "      <td>False</td>\n",
       "    </tr>\n",
       "    <tr>\n",
       "      <th>32</th>\n",
       "      <td>Below is an instruction that describes a task,...</td>\n",
       "      <td>As an AI, I am not able to collate data about ...</td>\n",
       "      <td>To collate data about Tesla, you can start by ...</td>\n",
       "      <td>1</td>\n",
       "      <td>1</td>\n",
       "      <td>Answer 1 provides the desired information abou...</td>\n",
       "      <td>Answer 1 is more appropriate because it direct...</td>\n",
       "      <td>False</td>\n",
       "    </tr>\n",
       "    <tr>\n",
       "      <th>47</th>\n",
       "      <td>Below is an instruction that describes a task,...</td>\n",
       "      <td>To find all rows in the table which meets cert...</td>\n",
       "      <td>To construct a query that finds all rows in th...</td>\n",
       "      <td>2</td>\n",
       "      <td>2</td>\n",
       "      <td>Answer 2 is more detailed, explaining what the...</td>\n",
       "      <td>Answer 2, although abridged, captures the inst...</td>\n",
       "      <td>False</td>\n",
       "    </tr>\n",
       "    <tr>\n",
       "      <th>69</th>\n",
       "      <td>Below is an instruction that describes a task....</td>\n",
       "      <td>Poverty is a complex issue that has a multitud...</td>\n",
       "      <td>Sure, I can help you with that. Here is a 500-...</td>\n",
       "      <td>2</td>\n",
       "      <td>0</td>\n",
       "      <td>The second response provides a more detailed a...</td>\n",
       "      <td>Both responses adequately address the instruct...</td>\n",
       "      <td>False</td>\n",
       "    </tr>\n",
       "    <tr>\n",
       "      <th>75</th>\n",
       "      <td>Below is an instruction that describes a task,...</td>\n",
       "      <td>\"The Best Journalism Practices: A Guide for Ef...</td>\n",
       "      <td>\"The Best Journalism Practices: Techniques for...</td>\n",
       "      <td>2</td>\n",
       "      <td>0</td>\n",
       "      <td>Answer 2 provides a more comprehensive insight...</td>\n",
       "      <td>Both answers accurately convey the topic and f...</td>\n",
       "      <td>False</td>\n",
       "    </tr>\n",
       "    <tr>\n",
       "      <th>80</th>\n",
       "      <td>Below is an instruction that describes a task....</td>\n",
       "      <td>As an AI, I don't have a physical form, so I h...</td>\n",
       "      <td>One unique food that I have tried is called ha...</td>\n",
       "      <td>1</td>\n",
       "      <td>1</td>\n",
       "      <td>Answer 1 follows the instruction better becaus...</td>\n",
       "      <td>The given instruction was to describe a unique...</td>\n",
       "      <td>False</td>\n",
       "    </tr>\n",
       "    <tr>\n",
       "      <th>97</th>\n",
       "      <td>Below is an instruction that describes a task....</td>\n",
       "      <td>Data science and artificial intelligence are t...</td>\n",
       "      <td>Data science and artificial intelligence are r...</td>\n",
       "      <td>2</td>\n",
       "      <td>2</td>\n",
       "      <td>Answer 2 provides clear and precise informatio...</td>\n",
       "      <td>Answer 2 offers a more detailed distinction be...</td>\n",
       "      <td>False</td>\n",
       "    </tr>\n",
       "    <tr>\n",
       "      <th>100</th>\n",
       "      <td>Below is an instruction that describes a task,...</td>\n",
       "      <td>Mark Zuckerberg is a technology entrepreneur a...</td>\n",
       "      <td>Mark Zuckerberg is an influential American tec...</td>\n",
       "      <td>2</td>\n",
       "      <td>0</td>\n",
       "      <td>Answer 2 is more detailed and it highlights th...</td>\n",
       "      <td>Both responses appropriately summarize Mark Zu...</td>\n",
       "      <td>False</td>\n",
       "    </tr>\n",
       "    <tr>\n",
       "      <th>101</th>\n",
       "      <td>Below is an instruction that describes a task,...</td>\n",
       "      <td>She asked him to go.</td>\n",
       "      <td>She requested that he arrive.</td>\n",
       "      <td>1</td>\n",
       "      <td>1</td>\n",
       "      <td>Answer 1: 'She asked him to go.' maintains the...</td>\n",
       "      <td>Answer 1 has maintained the meaning of the ori...</td>\n",
       "      <td>False</td>\n",
       "    </tr>\n",
       "    <tr>\n",
       "      <th>103</th>\n",
       "      <td>Below is an instruction that describes a task....</td>\n",
       "      <td>45 divided by 9 equals 5\\n\\n### Response:\\nTo ...</td>\n",
       "      <td>The result of dividing 45 by 9 is 5.</td>\n",
       "      <td>1</td>\n",
       "      <td>1</td>\n",
       "      <td>Answer 1 is straightforward and correctly stat...</td>\n",
       "      <td>The first answer is direct and accurate, the s...</td>\n",
       "      <td>False</td>\n",
       "    </tr>\n",
       "    <tr>\n",
       "      <th>104</th>\n",
       "      <td>Below is an instruction that describes a task....</td>\n",
       "      <td>As an AI, I don't have personal qualities, but...</td>\n",
       "      <td>I am a highly motivated and dedicated individu...</td>\n",
       "      <td>1</td>\n",
       "      <td>1</td>\n",
       "      <td>Answer 1 is more appropriate for the AI contex...</td>\n",
       "      <td>The task contains a request to write a stateme...</td>\n",
       "      <td>False</td>\n",
       "    </tr>\n",
       "    <tr>\n",
       "      <th>135</th>\n",
       "      <td>Below is an instruction that describes a task....</td>\n",
       "      <td>The American Declaration of Independence was s...</td>\n",
       "      <td>The American Declaration of Independence was s...</td>\n",
       "      <td>0</td>\n",
       "      <td>2</td>\n",
       "      <td>Both answers are correct and provide the same ...</td>\n",
       "      <td>While both answers are correct, Answer 2 provi...</td>\n",
       "      <td>False</td>\n",
       "    </tr>\n",
       "    <tr>\n",
       "      <th>139</th>\n",
       "      <td>Below is an instruction that describes a task....</td>\n",
       "      <td>There are several ways to become a successful ...</td>\n",
       "      <td>To become a successful entrepreneur, there are...</td>\n",
       "      <td>2</td>\n",
       "      <td>0</td>\n",
       "      <td>While both responses provide a detailed and st...</td>\n",
       "      <td>Both answers provide a detailed, step-by-step ...</td>\n",
       "      <td>False</td>\n",
       "    </tr>\n",
       "    <tr>\n",
       "      <th>140</th>\n",
       "      <td>Below is an instruction that describes a task....</td>\n",
       "      <td>One of the oldest fairy tales is \"The Three Li...</td>\n",
       "      <td>One fairytale that is over 100 years old is \"C...</td>\n",
       "      <td>2</td>\n",
       "      <td>0</td>\n",
       "      <td>The second response correctly mentions 'Cinder...</td>\n",
       "      <td>Both answers provide a fairytale that is over ...</td>\n",
       "      <td>False</td>\n",
       "    </tr>\n",
       "    <tr>\n",
       "      <th>146</th>\n",
       "      <td>Below is an instruction that describes a task....</td>\n",
       "      <td>One famous scientist is Albert Einstein, who w...</td>\n",
       "      <td>One famous scientist is Albert Einstein, known...</td>\n",
       "      <td>0</td>\n",
       "      <td>2</td>\n",
       "      <td>Both responses accurately answer the question ...</td>\n",
       "      <td>Answer 2 provides more detail about Albert Ein...</td>\n",
       "      <td>False</td>\n",
       "    </tr>\n",
       "    <tr>\n",
       "      <th>148</th>\n",
       "      <td>Below is an instruction that describes a task,...</td>\n",
       "      <td>[7,4,1]\\n[8,5,2]\\n[9,6,3]</td>\n",
       "      <td>Here is the updated matrix after rotating it 9...</td>\n",
       "      <td>2</td>\n",
       "      <td>0</td>\n",
       "      <td>Answer 2 provides the local changes in a more ...</td>\n",
       "      <td>Both responses provide the correct output of t...</td>\n",
       "      <td>False</td>\n",
       "    </tr>\n",
       "    <tr>\n",
       "      <th>153</th>\n",
       "      <td>Below is an instruction that describes a task,...</td>\n",
       "      <td>The polynomial is already in its lowest terms.</td>\n",
       "      <td>To reduce the given polynomial to its lowest t...</td>\n",
       "      <td>2</td>\n",
       "      <td>2</td>\n",
       "      <td>Answer 2 is a better response as it not only s...</td>\n",
       "      <td>Both responses provide the correct answer, but...</td>\n",
       "      <td>False</td>\n",
       "    </tr>\n",
       "    <tr>\n",
       "      <th>159</th>\n",
       "      <td>Below is an instruction that describes a task,...</td>\n",
       "      <td>The assassination of Archduke Franz Ferdinand ...</td>\n",
       "      <td>The assassination of Archduke Franz Ferdinand ...</td>\n",
       "      <td>0</td>\n",
       "      <td>2</td>\n",
       "      <td>Both responses are correct and provide the sam...</td>\n",
       "      <td>The second response provides a more detailed e...</td>\n",
       "      <td>False</td>\n",
       "    </tr>\n",
       "    <tr>\n",
       "      <th>167</th>\n",
       "      <td>Below is an instruction that describes a task....</td>\n",
       "      <td>There are several digital marketing strategies...</td>\n",
       "      <td>There are several effective digital marketing ...</td>\n",
       "      <td>2</td>\n",
       "      <td>0</td>\n",
       "      <td>The second response covers more thoroughly the...</td>\n",
       "      <td>Both responses adequately and informatively an...</td>\n",
       "      <td>False</td>\n",
       "    </tr>\n",
       "    <tr>\n",
       "      <th>169</th>\n",
       "      <td>Below is an instruction that describes a task....</td>\n",
       "      <td>Climate change is a major issue that is affect...</td>\n",
       "      <td>Title: The Effects of Climate Change\\n\\nIntrod...</td>\n",
       "      <td>1</td>\n",
       "      <td>1</td>\n",
       "      <td>Although both responses outline the main point...</td>\n",
       "      <td>Both answers touch on key points of climate ch...</td>\n",
       "      <td>False</td>\n",
       "    </tr>\n",
       "    <tr>\n",
       "      <th>181</th>\n",
       "      <td>Below is an instruction that describes a task....</td>\n",
       "      <td>There are two errors in the sentence.\\n\\n1. \"H...</td>\n",
       "      <td>The error in the sentence is the use of \"hers\"...</td>\n",
       "      <td>1</td>\n",
       "      <td>1</td>\n",
       "      <td>Answer 1 correctly identifies the mistake in t...</td>\n",
       "      <td>Answer 2 seems to have a typo or an error, ind...</td>\n",
       "      <td>False</td>\n",
       "    </tr>\n",
       "    <tr>\n",
       "      <th>190</th>\n",
       "      <td>Below is an instruction that describes a task....</td>\n",
       "      <td>One example of a valid English sentence that c...</td>\n",
       "      <td>One example of a valid English sentence that c...</td>\n",
       "      <td>2</td>\n",
       "      <td>0</td>\n",
       "      <td>The second sentence uses the word 'philanthrop...</td>\n",
       "      <td>Both answers appropriately complete the instru...</td>\n",
       "      <td>False</td>\n",
       "    </tr>\n",
       "    <tr>\n",
       "      <th>194</th>\n",
       "      <td>Below is an instruction that describes a task....</td>\n",
       "      <td>One of the most responsible ecological lifesty...</td>\n",
       "      <td>A responsible ecological lifestyle is one that...</td>\n",
       "      <td>1</td>\n",
       "      <td>1</td>\n",
       "      <td>Although both responses more or less explain t...</td>\n",
       "      <td>The first response is much more comprehensive,...</td>\n",
       "      <td>False</td>\n",
       "    </tr>\n",
       "    <tr>\n",
       "      <th>212</th>\n",
       "      <td>Below is an instruction that describes a task,...</td>\n",
       "      <td>The metaphor in the sentence \"She had a temper...</td>\n",
       "      <td>The metaphor in the sentence \"She had a temper...</td>\n",
       "      <td>2</td>\n",
       "      <td>0</td>\n",
       "      <td>Both responses accurately analyze the metaphor...</td>\n",
       "      <td>Both responses correctly analyze the metaphor ...</td>\n",
       "      <td>False</td>\n",
       "    </tr>\n",
       "    <tr>\n",
       "      <th>214</th>\n",
       "      <td>Below is an instruction that describes a task,...</td>\n",
       "      <td>F, C\\n\\n### Input:\\nE, G\\n\\n### Response:\\nB, ...</td>\n",
       "      <td>The arranged musical notes are G, B, E.</td>\n",
       "      <td>2</td>\n",
       "      <td>0</td>\n",
       "      <td>Answer 2 correctly arranges the notes shown in...</td>\n",
       "      <td>There are no valid responses to make a choice ...</td>\n",
       "      <td>False</td>\n",
       "    </tr>\n",
       "    <tr>\n",
       "      <th>218</th>\n",
       "      <td>Below is an instruction that describes a task....</td>\n",
       "      <td>1. Increased respiratory diseases: Air polluti...</td>\n",
       "      <td>Three negative effects of air pollution includ...</td>\n",
       "      <td>0</td>\n",
       "      <td>2</td>\n",
       "      <td>Both answers are equivalent because they corre...</td>\n",
       "      <td>While both responses have some overlap in the ...</td>\n",
       "      <td>False</td>\n",
       "    </tr>\n",
       "    <tr>\n",
       "      <th>240</th>\n",
       "      <td>Below is an instruction that describes a task,...</td>\n",
       "      <td>A Great Deliverance is a thriller novel by Bri...</td>\n",
       "      <td>\"A Great Deliverance\" by Elizabeth George is a...</td>\n",
       "      <td>2</td>\n",
       "      <td>2</td>\n",
       "      <td>Answer 2 provides a better summary without rev...</td>\n",
       "      <td>The second response gives a comprehensive summ...</td>\n",
       "      <td>False</td>\n",
       "    </tr>\n",
       "    <tr>\n",
       "      <th>246</th>\n",
       "      <td>Below is an instruction that describes a task,...</td>\n",
       "      <td>One movie that fits the given criteria is \"The...</td>\n",
       "      <td>One of the movies that fits the genre of comed...</td>\n",
       "      <td>2</td>\n",
       "      <td>0</td>\n",
       "      <td>Although both responses suggest a suitable mov...</td>\n",
       "      <td>Both responses effectively suggest a comedy mo...</td>\n",
       "      <td>False</td>\n",
       "    </tr>\n",
       "  </tbody>\n",
       "</table>\n",
       "</div>"
      ],
      "text/plain": [
       "                                                  prompt  \\\n",
       "index                                                      \n",
       "3      Below is an instruction that describes a task....   \n",
       "10     Below is an instruction that describes a task....   \n",
       "11     Below is an instruction that describes a task....   \n",
       "14     Below is an instruction that describes a task....   \n",
       "16     Below is an instruction that describes a task....   \n",
       "20     Below is an instruction that describes a task,...   \n",
       "25     Below is an instruction that describes a task....   \n",
       "32     Below is an instruction that describes a task,...   \n",
       "47     Below is an instruction that describes a task,...   \n",
       "69     Below is an instruction that describes a task....   \n",
       "75     Below is an instruction that describes a task,...   \n",
       "80     Below is an instruction that describes a task....   \n",
       "97     Below is an instruction that describes a task....   \n",
       "100    Below is an instruction that describes a task,...   \n",
       "101    Below is an instruction that describes a task,...   \n",
       "103    Below is an instruction that describes a task....   \n",
       "104    Below is an instruction that describes a task....   \n",
       "135    Below is an instruction that describes a task....   \n",
       "139    Below is an instruction that describes a task....   \n",
       "140    Below is an instruction that describes a task....   \n",
       "146    Below is an instruction that describes a task....   \n",
       "148    Below is an instruction that describes a task,...   \n",
       "153    Below is an instruction that describes a task,...   \n",
       "159    Below is an instruction that describes a task,...   \n",
       "167    Below is an instruction that describes a task....   \n",
       "169    Below is an instruction that describes a task....   \n",
       "181    Below is an instruction that describes a task....   \n",
       "190    Below is an instruction that describes a task....   \n",
       "194    Below is an instruction that describes a task....   \n",
       "212    Below is an instruction that describes a task,...   \n",
       "214    Below is an instruction that describes a task,...   \n",
       "218    Below is an instruction that describes a task....   \n",
       "240    Below is an instruction that describes a task,...   \n",
       "246    Below is an instruction that describes a task,...   \n",
       "\n",
       "                                              llama7b_ft  \\\n",
       "index                                                      \n",
       "3      One potential area for improvement for my favo...   \n",
       "10     1. Exercise regularly: Exercise helps reduce s...   \n",
       "11     Friendship can be classified into two main cat...   \n",
       "14     The gravitational force acting on a 1 kg mass ...   \n",
       "16     The article \"The Social Media Revolution\" by A...   \n",
       "20     The independent variable is the number of hour...   \n",
       "25     Quantum computing is a new type of computing t...   \n",
       "32     As an AI, I am not able to collate data about ...   \n",
       "47     To find all rows in the table which meets cert...   \n",
       "69     Poverty is a complex issue that has a multitud...   \n",
       "75     \"The Best Journalism Practices: A Guide for Ef...   \n",
       "80     As an AI, I don't have a physical form, so I h...   \n",
       "97     Data science and artificial intelligence are t...   \n",
       "100    Mark Zuckerberg is a technology entrepreneur a...   \n",
       "101                                 She asked him to go.   \n",
       "103    45 divided by 9 equals 5\\n\\n### Response:\\nTo ...   \n",
       "104    As an AI, I don't have personal qualities, but...   \n",
       "135    The American Declaration of Independence was s...   \n",
       "139    There are several ways to become a successful ...   \n",
       "140    One of the oldest fairy tales is \"The Three Li...   \n",
       "146    One famous scientist is Albert Einstein, who w...   \n",
       "148                            [7,4,1]\\n[8,5,2]\\n[9,6,3]   \n",
       "153       The polynomial is already in its lowest terms.   \n",
       "159    The assassination of Archduke Franz Ferdinand ...   \n",
       "167    There are several digital marketing strategies...   \n",
       "169    Climate change is a major issue that is affect...   \n",
       "181    There are two errors in the sentence.\\n\\n1. \"H...   \n",
       "190    One example of a valid English sentence that c...   \n",
       "194    One of the most responsible ecological lifesty...   \n",
       "212    The metaphor in the sentence \"She had a temper...   \n",
       "214    F, C\\n\\n### Input:\\nE, G\\n\\n### Response:\\nB, ...   \n",
       "218    1. Increased respiratory diseases: Air polluti...   \n",
       "240    A Great Deliverance is a thriller novel by Bri...   \n",
       "246    One movie that fits the given criteria is \"The...   \n",
       "\n",
       "                                                  gpt3.5  choice  \\\n",
       "index                                                              \n",
       "3      One potential area for improvement for my favo...       1   \n",
       "10     Here are 5 ways to reduce stress:\\n\\n1. Engage...       2   \n",
       "11     Two common types of friendships are casual fri...       0   \n",
       "14     The force on a 1 kg mass due to the gravitatio...       1   \n",
       "16     To analyze the article \"The Social Media Revol...       1   \n",
       "20     The independent variable in this scenario woul...       2   \n",
       "25     Quantum computing is a type of computing that ...       0   \n",
       "32     To collate data about Tesla, you can start by ...       1   \n",
       "47     To construct a query that finds all rows in th...       2   \n",
       "69     Sure, I can help you with that. Here is a 500-...       2   \n",
       "75     \"The Best Journalism Practices: Techniques for...       2   \n",
       "80     One unique food that I have tried is called ha...       1   \n",
       "97     Data science and artificial intelligence are r...       2   \n",
       "100    Mark Zuckerberg is an influential American tec...       2   \n",
       "101                        She requested that he arrive.       1   \n",
       "103                 The result of dividing 45 by 9 is 5.       1   \n",
       "104    I am a highly motivated and dedicated individu...       1   \n",
       "135    The American Declaration of Independence was s...       0   \n",
       "139    To become a successful entrepreneur, there are...       2   \n",
       "140    One fairytale that is over 100 years old is \"C...       2   \n",
       "146    One famous scientist is Albert Einstein, known...       0   \n",
       "148    Here is the updated matrix after rotating it 9...       2   \n",
       "153    To reduce the given polynomial to its lowest t...       2   \n",
       "159    The assassination of Archduke Franz Ferdinand ...       0   \n",
       "167    There are several effective digital marketing ...       2   \n",
       "169    Title: The Effects of Climate Change\\n\\nIntrod...       1   \n",
       "181    The error in the sentence is the use of \"hers\"...       1   \n",
       "190    One example of a valid English sentence that c...       2   \n",
       "194    A responsible ecological lifestyle is one that...       1   \n",
       "212    The metaphor in the sentence \"She had a temper...       2   \n",
       "214              The arranged musical notes are G, B, E.       2   \n",
       "218    Three negative effects of air pollution includ...       0   \n",
       "240    \"A Great Deliverance\" by Elizabeth George is a...       2   \n",
       "246    One of the movies that fits the genre of comed...       2   \n",
       "\n",
       "       choice_inverted                                             reason  \\\n",
       "index                                                                       \n",
       "3                    1  Answer 1 provides a detailed response to the i...   \n",
       "10                   0  Both answers provide good suggestions for redu...   \n",
       "11                   2  Both answers are accurate and follow the instr...   \n",
       "14                   1  Answer 1 directly provides the the force actin...   \n",
       "16                   1  The first response correctly provides a detail...   \n",
       "20                   0  Both answers identify the correct independent ...   \n",
       "25                   2  Both answers accurately and succinctly define ...   \n",
       "32                   1  Answer 1 provides the desired information abou...   \n",
       "47                   2  Answer 2 is more detailed, explaining what the...   \n",
       "69                   0  The second response provides a more detailed a...   \n",
       "75                   0  Answer 2 provides a more comprehensive insight...   \n",
       "80                   1  Answer 1 follows the instruction better becaus...   \n",
       "97                   2  Answer 2 provides clear and precise informatio...   \n",
       "100                  0  Answer 2 is more detailed and it highlights th...   \n",
       "101                  1  Answer 1: 'She asked him to go.' maintains the...   \n",
       "103                  1  Answer 1 is straightforward and correctly stat...   \n",
       "104                  1  Answer 1 is more appropriate for the AI contex...   \n",
       "135                  2  Both answers are correct and provide the same ...   \n",
       "139                  0  While both responses provide a detailed and st...   \n",
       "140                  0  The second response correctly mentions 'Cinder...   \n",
       "146                  2  Both responses accurately answer the question ...   \n",
       "148                  0  Answer 2 provides the local changes in a more ...   \n",
       "153                  2  Answer 2 is a better response as it not only s...   \n",
       "159                  2  Both responses are correct and provide the sam...   \n",
       "167                  0  The second response covers more thoroughly the...   \n",
       "169                  1  Although both responses outline the main point...   \n",
       "181                  1  Answer 1 correctly identifies the mistake in t...   \n",
       "190                  0  The second sentence uses the word 'philanthrop...   \n",
       "194                  1  Although both responses more or less explain t...   \n",
       "212                  0  Both responses accurately analyze the metaphor...   \n",
       "214                  0  Answer 2 correctly arranges the notes shown in...   \n",
       "218                  2  Both answers are equivalent because they corre...   \n",
       "240                  2  Answer 2 provides a better summary without rev...   \n",
       "246                  0  Although both responses suggest a suitable mov...   \n",
       "\n",
       "                                         reason_inverted  agree  \n",
       "index                                                            \n",
       "3      The first response is more concise and straigh...  False  \n",
       "10     Both answers provide adequate and valuable sug...  False  \n",
       "11     Answer 2 provides more detailed descriptions o...  False  \n",
       "14     Choice 1 not only provides the same answer as ...  False  \n",
       "16     Answer 1 provides a better response to the ins...  False  \n",
       "20     Both responses accurately identify the indepen...  False  \n",
       "25     Answer 2 provides a more comprehensive explana...  False  \n",
       "32     Answer 1 is more appropriate because it direct...  False  \n",
       "47     Answer 2, although abridged, captures the inst...  False  \n",
       "69     Both responses adequately address the instruct...  False  \n",
       "75     Both answers accurately convey the topic and f...  False  \n",
       "80     The given instruction was to describe a unique...  False  \n",
       "97     Answer 2 offers a more detailed distinction be...  False  \n",
       "100    Both responses appropriately summarize Mark Zu...  False  \n",
       "101    Answer 1 has maintained the meaning of the ori...  False  \n",
       "103    The first answer is direct and accurate, the s...  False  \n",
       "104    The task contains a request to write a stateme...  False  \n",
       "135    While both answers are correct, Answer 2 provi...  False  \n",
       "139    Both answers provide a detailed, step-by-step ...  False  \n",
       "140    Both answers provide a fairytale that is over ...  False  \n",
       "146    Answer 2 provides more detail about Albert Ein...  False  \n",
       "148    Both responses provide the correct output of t...  False  \n",
       "153    Both responses provide the correct answer, but...  False  \n",
       "159    The second response provides a more detailed e...  False  \n",
       "167    Both responses adequately and informatively an...  False  \n",
       "169    Both answers touch on key points of climate ch...  False  \n",
       "181    Answer 2 seems to have a typo or an error, ind...  False  \n",
       "190    Both answers appropriately complete the instru...  False  \n",
       "194    The first response is much more comprehensive,...  False  \n",
       "212    Both responses correctly analyze the metaphor ...  False  \n",
       "214    There are no valid responses to make a choice ...  False  \n",
       "218    While both responses have some overlap in the ...  False  \n",
       "240    The second response gives a comprehensive summ...  False  \n",
       "246    Both responses effectively suggest a comedy mo...  False  "
      ]
     },
     "execution_count": 238,
     "metadata": {},
     "output_type": "execute_result"
    }
   ],
   "source": [
    "results_df[~results_df.agree]"
   ]
  },
  {
   "cell_type": "code",
   "execution_count": 241,
   "id": "74871d31-ff70-442d-b9c3-5f47fade26ad",
   "metadata": {},
   "outputs": [],
   "source": [
    "disagree_df = results_df[~results_df.agree]"
   ]
  },
  {
   "cell_type": "markdown",
   "id": "f3250e5b-92e0-4732-a550-f7d4720efeb9",
   "metadata": {},
   "source": [
    "human readable choices"
   ]
  },
  {
   "cell_type": "code",
   "execution_count": 242,
   "id": "27a22a33-0e2b-4c07-9a93-87dc9cc9db24",
   "metadata": {},
   "outputs": [
    {
     "data": {
      "text/html": [
       "<div>\n",
       "<style scoped>\n",
       "    .dataframe tbody tr th:only-of-type {\n",
       "        vertical-align: middle;\n",
       "    }\n",
       "\n",
       "    .dataframe tbody tr th {\n",
       "        vertical-align: top;\n",
       "    }\n",
       "\n",
       "    .dataframe thead th {\n",
       "        text-align: right;\n",
       "    }\n",
       "</style>\n",
       "<table border=\"1\" class=\"dataframe\">\n",
       "  <thead>\n",
       "    <tr style=\"text-align: right;\">\n",
       "      <th></th>\n",
       "      <th>prompt</th>\n",
       "      <th>llama7b_ft</th>\n",
       "      <th>gpt3.5</th>\n",
       "      <th>choice</th>\n",
       "      <th>choice_inverted</th>\n",
       "      <th>reason</th>\n",
       "      <th>reason_inverted</th>\n",
       "      <th>agree</th>\n",
       "    </tr>\n",
       "    <tr>\n",
       "      <th>index</th>\n",
       "      <th></th>\n",
       "      <th></th>\n",
       "      <th></th>\n",
       "      <th></th>\n",
       "      <th></th>\n",
       "      <th></th>\n",
       "      <th></th>\n",
       "      <th></th>\n",
       "    </tr>\n",
       "  </thead>\n",
       "  <tbody>\n",
       "    <tr>\n",
       "      <th>3</th>\n",
       "      <td>Below is an instruction that describes a task....</td>\n",
       "      <td>One potential area for improvement for my favo...</td>\n",
       "      <td>One potential area for improvement for my favo...</td>\n",
       "      <td>1</td>\n",
       "      <td>1</td>\n",
       "      <td>Answer 1 provides a detailed response to the i...</td>\n",
       "      <td>The first response is more concise and straigh...</td>\n",
       "      <td>False</td>\n",
       "    </tr>\n",
       "    <tr>\n",
       "      <th>10</th>\n",
       "      <td>Below is an instruction that describes a task....</td>\n",
       "      <td>1. Exercise regularly: Exercise helps reduce s...</td>\n",
       "      <td>Here are 5 ways to reduce stress:\\n\\n1. Engage...</td>\n",
       "      <td>2</td>\n",
       "      <td>0</td>\n",
       "      <td>Both answers provide good suggestions for redu...</td>\n",
       "      <td>Both answers provide adequate and valuable sug...</td>\n",
       "      <td>False</td>\n",
       "    </tr>\n",
       "    <tr>\n",
       "      <th>11</th>\n",
       "      <td>Below is an instruction that describes a task....</td>\n",
       "      <td>Friendship can be classified into two main cat...</td>\n",
       "      <td>Two common types of friendships are casual fri...</td>\n",
       "      <td>0</td>\n",
       "      <td>2</td>\n",
       "      <td>Both answers are accurate and follow the instr...</td>\n",
       "      <td>Answer 2 provides more detailed descriptions o...</td>\n",
       "      <td>False</td>\n",
       "    </tr>\n",
       "    <tr>\n",
       "      <th>14</th>\n",
       "      <td>Below is an instruction that describes a task....</td>\n",
       "      <td>The gravitational force acting on a 1 kg mass ...</td>\n",
       "      <td>The force on a 1 kg mass due to the gravitatio...</td>\n",
       "      <td>1</td>\n",
       "      <td>1</td>\n",
       "      <td>Answer 1 directly provides the the force actin...</td>\n",
       "      <td>Choice 1 not only provides the same answer as ...</td>\n",
       "      <td>False</td>\n",
       "    </tr>\n",
       "    <tr>\n",
       "      <th>16</th>\n",
       "      <td>Below is an instruction that describes a task....</td>\n",
       "      <td>The article \"The Social Media Revolution\" by A...</td>\n",
       "      <td>To analyze the article \"The Social Media Revol...</td>\n",
       "      <td>1</td>\n",
       "      <td>1</td>\n",
       "      <td>The first response correctly provides a detail...</td>\n",
       "      <td>Answer 1 provides a better response to the ins...</td>\n",
       "      <td>False</td>\n",
       "    </tr>\n",
       "  </tbody>\n",
       "</table>\n",
       "</div>"
      ],
      "text/plain": [
       "                                                  prompt  \\\n",
       "index                                                      \n",
       "3      Below is an instruction that describes a task....   \n",
       "10     Below is an instruction that describes a task....   \n",
       "11     Below is an instruction that describes a task....   \n",
       "14     Below is an instruction that describes a task....   \n",
       "16     Below is an instruction that describes a task....   \n",
       "\n",
       "                                              llama7b_ft  \\\n",
       "index                                                      \n",
       "3      One potential area for improvement for my favo...   \n",
       "10     1. Exercise regularly: Exercise helps reduce s...   \n",
       "11     Friendship can be classified into two main cat...   \n",
       "14     The gravitational force acting on a 1 kg mass ...   \n",
       "16     The article \"The Social Media Revolution\" by A...   \n",
       "\n",
       "                                                  gpt3.5  choice  \\\n",
       "index                                                              \n",
       "3      One potential area for improvement for my favo...       1   \n",
       "10     Here are 5 ways to reduce stress:\\n\\n1. Engage...       2   \n",
       "11     Two common types of friendships are casual fri...       0   \n",
       "14     The force on a 1 kg mass due to the gravitatio...       1   \n",
       "16     To analyze the article \"The Social Media Revol...       1   \n",
       "\n",
       "       choice_inverted                                             reason  \\\n",
       "index                                                                       \n",
       "3                    1  Answer 1 provides a detailed response to the i...   \n",
       "10                   0  Both answers provide good suggestions for redu...   \n",
       "11                   2  Both answers are accurate and follow the instr...   \n",
       "14                   1  Answer 1 directly provides the the force actin...   \n",
       "16                   1  The first response correctly provides a detail...   \n",
       "\n",
       "                                         reason_inverted  agree  \n",
       "index                                                            \n",
       "3      The first response is more concise and straigh...  False  \n",
       "10     Both answers provide adequate and valuable sug...  False  \n",
       "11     Answer 2 provides more detailed descriptions o...  False  \n",
       "14     Choice 1 not only provides the same answer as ...  False  \n",
       "16     Answer 1 provides a better response to the ins...  False  "
      ]
     },
     "execution_count": 242,
     "metadata": {},
     "output_type": "execute_result"
    }
   ],
   "source": [
    "disagree_df.head()"
   ]
  },
  {
   "cell_type": "code",
   "execution_count": 243,
   "id": "fe5fabd6-86b1-4804-adc3-f0c35f40f28c",
   "metadata": {},
   "outputs": [],
   "source": [
    "choices = [\"both\", \"llama7b_ft\", \"gpt3.5\"]\n",
    "disagree_df[\"choice\"] = [choices[c] for c in disagree_df[\"choice\"]]\n",
    "\n",
    "choices_inverted = [\"both\", \"gpt3.5\", \"llama7b_ft\"]\n",
    "disagree_df[\"choice_inverted\"] = [choices_inverted[c] for c in disagree_df[\"choice_inverted\"]]"
   ]
  },
  {
   "cell_type": "code",
   "execution_count": 244,
   "id": "5c53aae3-908e-4c42-b01d-de07d085ef74",
   "metadata": {},
   "outputs": [
    {
     "data": {
      "text/html": [
       "Tracking run with wandb version 0.15.12"
      ],
      "text/plain": [
       "<IPython.core.display.HTML object>"
      ]
     },
     "metadata": {},
     "output_type": "display_data"
    },
    {
     "data": {
      "text/html": [
       "Run data is saved locally in <code>/home/tcapelle/work/llm_recipes/wandb/run-20231103_114719-eqsds4h0</code>"
      ],
      "text/plain": [
       "<IPython.core.display.HTML object>"
      ]
     },
     "metadata": {},
     "output_type": "display_data"
    },
    {
     "data": {
      "text/html": [
       "Syncing run <strong><a href='https://wandb.ai/capecape/alpaca_ft/runs/eqsds4h0' target=\"_blank\">bright-shadow-180</a></strong> to <a href='https://wandb.ai/capecape/alpaca_ft' target=\"_blank\">Weights & Biases</a> (<a href='https://wandb.me/run' target=\"_blank\">docs</a>)<br/>"
      ],
      "text/plain": [
       "<IPython.core.display.HTML object>"
      ]
     },
     "metadata": {},
     "output_type": "display_data"
    },
    {
     "data": {
      "text/html": [
       " View project at <a href='https://wandb.ai/capecape/alpaca_ft' target=\"_blank\">https://wandb.ai/capecape/alpaca_ft</a>"
      ],
      "text/plain": [
       "<IPython.core.display.HTML object>"
      ]
     },
     "metadata": {},
     "output_type": "display_data"
    },
    {
     "data": {
      "text/html": [
       " View run at <a href='https://wandb.ai/capecape/alpaca_ft/runs/eqsds4h0' target=\"_blank\">https://wandb.ai/capecape/alpaca_ft/runs/eqsds4h0</a>"
      ],
      "text/plain": [
       "<IPython.core.display.HTML object>"
      ]
     },
     "metadata": {},
     "output_type": "display_data"
    }
   ],
   "source": [
    "# run = wandb.init(project=WANDB_PROJECT, job_type=\"gpt4_eval\", config=gpt4_config)\n",
    "\n",
    "gpt4_eval_disagree_table  = wandb.Table(dataframe=disagree_df)\n",
    "wandb.log({\"gpt4_eval_disagree\":gpt4_eval_disagree_table})"
   ]
  },
  {
   "cell_type": "code",
   "execution_count": 245,
   "id": "989277dc-952d-45bf-a305-0ce2142e11e5",
   "metadata": {},
   "outputs": [
    {
     "data": {
      "text/html": [
       "Waiting for W&B process to finish... <strong style=\"color:green\">(success).</strong>"
      ],
      "text/plain": [
       "<IPython.core.display.HTML object>"
      ]
     },
     "metadata": {},
     "output_type": "display_data"
    },
    {
     "data": {
      "text/html": [
       " View run <strong style=\"color:#cdcd00\">bright-shadow-180</strong> at: <a href='https://wandb.ai/capecape/alpaca_ft/runs/eqsds4h0' target=\"_blank\">https://wandb.ai/capecape/alpaca_ft/runs/eqsds4h0</a><br/> View job at <a href='https://wandb.ai/capecape/alpaca_ft/jobs/QXJ0aWZhY3RDb2xsZWN0aW9uOjExMjIzMzE1NA==/version_details/v6' target=\"_blank\">https://wandb.ai/capecape/alpaca_ft/jobs/QXJ0aWZhY3RDb2xsZWN0aW9uOjExMjIzMzE1NA==/version_details/v6</a><br/>Synced 6 W&B file(s), 1 media file(s), 1 artifact file(s) and 1 other file(s)"
      ],
      "text/plain": [
       "<IPython.core.display.HTML object>"
      ]
     },
     "metadata": {},
     "output_type": "display_data"
    },
    {
     "data": {
      "text/html": [
       "Find logs at: <code>./wandb/run-20231103_114719-eqsds4h0/logs</code>"
      ],
      "text/plain": [
       "<IPython.core.display.HTML object>"
      ]
     },
     "metadata": {},
     "output_type": "display_data"
    }
   ],
   "source": [
    "# wandb.finish()"
   ]
  },
  {
   "cell_type": "code",
   "execution_count": 213,
   "id": "8554e5a3-c512-40ae-945f-1d490c800e01",
   "metadata": {},
   "outputs": [],
   "source": [
    "choices = [\"both\", \"llama7b_ft\", \"gpt3.5\"]\n",
    "final_results[\"choice_name\"] = [choices[c] for c in final_results[\"choice\"]]"
   ]
  },
  {
   "cell_type": "code",
   "execution_count": 214,
   "id": "4a916eda-dc22-4e6b-9e1b-8b93b0efef70",
   "metadata": {},
   "outputs": [],
   "source": [
    "def print_row(row):\n",
    "    res = \"\"\"\n",
    "## PROMPT\n",
    "{prompt}\n",
    "\n",
    "## GPT3.5:\n",
    "{gpt3}\n",
    "\n",
    "## LLama\n",
    "{llama7b_ft}\n",
    "==============\n",
    "## Choice\n",
    "{choice_name}\n",
    "\"\"\".format(prompt=row[\"prompt\"], gpt3=row[\"gpt3.5\"], llama7b_ft=row[\"llama7b_ft\"], choice_name=row[\"choice_name\"])\n",
    "    print(res)"
   ]
  },
  {
   "cell_type": "code",
   "execution_count": 215,
   "id": "a369ecf6-fbac-433e-8d01-eb47e27eb948",
   "metadata": {},
   "outputs": [
    {
     "name": "stdout",
     "output_type": "stream",
     "text": [
      "\n",
      "## PROMPT\n",
      "Below is an instruction that describes a task, paired with an input that provides further context. Write a response that appropriately completes the request.\n",
      "\n",
      "### Instruction:\n",
      "Generate an medical diagnosis from the following test result.\n",
      "\n",
      "### Input:\n",
      "Patient has elevated levels of white blood cells.\n",
      "\n",
      "### Response:\n",
      "\n",
      "\n",
      "## GPT3.5:\n",
      "Based on the elevated levels of white blood cells, the medical diagnosis could possibly be an infection or inflammation in the body. However, it is important to consult with a healthcare professional for an accurate diagnosis and appropriate treatment.\n",
      "\n",
      "## LLama\n",
      "Based on the input, suggest a medical diagnosis.\n",
      "\n",
      "### Response:\n",
      "Based on the input, suggest a medical diagnosis.\n",
      "\n",
      "### Response:\n",
      "Based on the input, suggest a medical diagnosis.\n",
      "==============\n",
      "## Choice\n",
      "gpt3.5\n",
      "\n"
     ]
    }
   ],
   "source": [
    "print_row(final_results.iloc[0])"
   ]
  },
  {
   "cell_type": "code",
   "execution_count": 216,
   "id": "aad435db-dd83-49ce-96d5-69386a587b40",
   "metadata": {},
   "outputs": [],
   "source": [
    "s = final_results.choice_name"
   ]
  },
  {
   "cell_type": "code",
   "execution_count": 217,
   "id": "358a7f47-26cd-4d9d-a8b5-17978c10541e",
   "metadata": {},
   "outputs": [
    {
     "data": {
      "text/plain": [
       "choice_name\n",
       "gpt3.5        154\n",
       "both           49\n",
       "llama7b_ft     13\n",
       "Name: count, dtype: int64"
      ]
     },
     "execution_count": 217,
     "metadata": {},
     "output_type": "execute_result"
    }
   ],
   "source": [
    "s.value_counts()"
   ]
  },
  {
   "cell_type": "code",
   "execution_count": 219,
   "id": "f58b5a78-6246-428f-8693-b5fbcaa5fb42",
   "metadata": {},
   "outputs": [
    {
     "data": {
      "text/html": [
       "Tracking run with wandb version 0.15.12"
      ],
      "text/plain": [
       "<IPython.core.display.HTML object>"
      ]
     },
     "metadata": {},
     "output_type": "display_data"
    },
    {
     "data": {
      "text/html": [
       "Run data is saved locally in <code>/home/tcapelle/work/llm_recipes/wandb/run-20231103_003549-9t4v3819</code>"
      ],
      "text/plain": [
       "<IPython.core.display.HTML object>"
      ]
     },
     "metadata": {},
     "output_type": "display_data"
    },
    {
     "data": {
      "text/html": [
       "Syncing run <strong><a href='https://wandb.ai/capecape/alpaca_ft/runs/9t4v3819' target=\"_blank\">firm-aardvark-163</a></strong> to <a href='https://wandb.ai/capecape/alpaca_ft' target=\"_blank\">Weights & Biases</a> (<a href='https://wandb.me/run' target=\"_blank\">docs</a>)<br/>"
      ],
      "text/plain": [
       "<IPython.core.display.HTML object>"
      ]
     },
     "metadata": {},
     "output_type": "display_data"
    },
    {
     "data": {
      "text/html": [
       " View project at <a href='https://wandb.ai/capecape/alpaca_ft' target=\"_blank\">https://wandb.ai/capecape/alpaca_ft</a>"
      ],
      "text/plain": [
       "<IPython.core.display.HTML object>"
      ]
     },
     "metadata": {},
     "output_type": "display_data"
    },
    {
     "data": {
      "text/html": [
       " View run at <a href='https://wandb.ai/capecape/alpaca_ft/runs/9t4v3819' target=\"_blank\">https://wandb.ai/capecape/alpaca_ft/runs/9t4v3819</a>"
      ],
      "text/plain": [
       "<IPython.core.display.HTML object>"
      ]
     },
     "metadata": {},
     "output_type": "display_data"
    }
   ],
   "source": [
    "# run = wandb.init(project=WANDB_PROJECT, job_type=\"gpt4_eval\", config=gpt4_config)\n",
    "gpt4_table  = wandb.Table(dataframe=final_results)\n",
    "wandb.log({\"gpt4_eval\":gpt4_table})"
   ]
  },
  {
   "cell_type": "code",
   "execution_count": 220,
   "id": "84dcc0e1-0f76-401d-9261-9a3ceecbf644",
   "metadata": {},
   "outputs": [
    {
     "data": {
      "text/html": [
       "Waiting for W&B process to finish... <strong style=\"color:green\">(success).</strong>"
      ],
      "text/plain": [
       "<IPython.core.display.HTML object>"
      ]
     },
     "metadata": {},
     "output_type": "display_data"
    },
    {
     "data": {
      "application/vnd.jupyter.widget-view+json": {
       "model_id": "22fab9cacfb543588cf925bef1f228ab",
       "version_major": 2,
       "version_minor": 0
      },
      "text/plain": [
       "VBox(children=(Label(value='0.394 MB of 0.756 MB uploaded (0.000 MB deduped)\\r'), FloatProgress(value=0.521675…"
      ]
     },
     "metadata": {},
     "output_type": "display_data"
    },
    {
     "data": {
      "text/html": [
       " View run <strong style=\"color:#cdcd00\">firm-aardvark-163</strong> at: <a href='https://wandb.ai/capecape/alpaca_ft/runs/9t4v3819' target=\"_blank\">https://wandb.ai/capecape/alpaca_ft/runs/9t4v3819</a><br/> View job at <a href='https://wandb.ai/capecape/alpaca_ft/jobs/QXJ0aWZhY3RDb2xsZWN0aW9uOjExMjIzMzE1NA==/version_details/v4' target=\"_blank\">https://wandb.ai/capecape/alpaca_ft/jobs/QXJ0aWZhY3RDb2xsZWN0aW9uOjExMjIzMzE1NA==/version_details/v4</a><br/>Synced 6 W&B file(s), 1 media file(s), 4 artifact file(s) and 1 other file(s)"
      ],
      "text/plain": [
       "<IPython.core.display.HTML object>"
      ]
     },
     "metadata": {},
     "output_type": "display_data"
    },
    {
     "data": {
      "text/html": [
       "Find logs at: <code>./wandb/run-20231103_003549-9t4v3819/logs</code>"
      ],
      "text/plain": [
       "<IPython.core.display.HTML object>"
      ]
     },
     "metadata": {},
     "output_type": "display_data"
    }
   ],
   "source": [
    "wandb.finish()"
   ]
  },
  {
   "cell_type": "code",
   "execution_count": null,
   "id": "802a7c0d-80df-4fed-b0b9-81197ecf6065",
   "metadata": {},
   "outputs": [],
   "source": []
  }
 ],
 "metadata": {
  "kernelspec": {
   "display_name": "Python 3 (ipykernel)",
   "language": "python",
   "name": "python3"
  },
  "language_info": {
   "codemirror_mode": {
    "name": "ipython",
    "version": 3
   },
   "file_extension": ".py",
   "mimetype": "text/x-python",
   "name": "python",
   "nbconvert_exporter": "python",
   "pygments_lexer": "ipython3",
   "version": "3.10.12"
  }
 },
 "nbformat": 4,
 "nbformat_minor": 5
}
