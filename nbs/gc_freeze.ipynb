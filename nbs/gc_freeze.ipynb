{
 "cells": [
  {
   "cell_type": "code",
   "execution_count": 2,
   "metadata": {},
   "outputs": [],
   "source": [
    "from types import SimpleNamespace\n",
    "\n",
    "import torch\n",
    "from torch import nn\n",
    "from torch.utils.checkpoint import checkpoint"
   ]
  },
  {
   "cell_type": "markdown",
   "metadata": {},
   "source": [
    "## Let's check what's going on with GC"
   ]
  },
  {
   "cell_type": "code",
   "execution_count": 3,
   "metadata": {},
   "outputs": [],
   "source": [
    "def print_layer_info(layer, out=None):\n",
    "    s = (\"Layer: {name}\\n\"\n",
    "         \" w:    {weight}\\n\"\n",
    "         \" grad: {grad}\").format(name=layer, weight=layer.weight.data, grad=layer.weight.grad)\n",
    "    print(s)\n",
    "    if out is not None:\n",
    "        print(f\"  out: {out.grad_fn}\")"
   ]
  },
  {
   "cell_type": "code",
   "execution_count": 4,
   "metadata": {},
   "outputs": [],
   "source": [
    "l =nn.Linear(1,1)"
   ]
  },
  {
   "cell_type": "code",
   "execution_count": 5,
   "metadata": {},
   "outputs": [
    {
     "name": "stdout",
     "output_type": "stream",
     "text": [
      "Layer: Linear(in_features=1, out_features=1, bias=True)\n",
      " w:    tensor([[-0.2703]])\n",
      " grad: None\n"
     ]
    }
   ],
   "source": [
    "print_layer_info(l)"
   ]
  },
  {
   "cell_type": "code",
   "execution_count": 43,
   "metadata": {},
   "outputs": [],
   "source": [
    "\n",
    "class Model(nn.Module):\n",
    "    def __init__(self):\n",
    "        super().__init__()\n",
    "        self.linear = nn.Linear(1,1, bias=False)\n",
    "        self.linear2 = nn.Linear(1,1, bias=False)\n",
    "        self.head = nn.Linear(1,1, bias=False)\n",
    "    \n",
    "    def forward(self, x, cp=False, reentrant=True, enable_input_grad=False):\n",
    "        if cp:\n",
    "            x = checkpoint(self.linear, x, use_reentrant=reentrant)\n",
    "            if enable_input_grad:\n",
    "                x.requires_grad_(True)\n",
    "            print_layer_info(self.linear, x)\n",
    "            x = checkpoint(self.linear2, x, use_reentrant=reentrant)\n",
    "            print_layer_info(self.linear, x)\n",
    "            \n",
    "        else:\n",
    "            x = self.linear(x)\n",
    "            print_layer_info(self.linear, x)\n",
    "            x = self.linear2(x)\n",
    "            print_layer_info(self.linear2, x)\n",
    "        out = self.head(x)\n",
    "        print_layer_info(self.head, out)\n",
    "        return out\n",
    "\n",
    "    def print(self):\n",
    "        for l in [self.linear, self.linear2, self.head]:\n",
    "            print_layer_info(l)\n",
    "        \n",
    "torch.manual_seed(42)        \n",
    "model = Model()\n",
    "x = torch.rand(1,1)"
   ]
  },
  {
   "cell_type": "markdown",
   "metadata": {},
   "source": [
    "no gradient checkpointing"
   ]
  },
  {
   "cell_type": "code",
   "execution_count": 44,
   "metadata": {},
   "outputs": [
    {
     "name": "stdout",
     "output_type": "stream",
     "text": [
      "Layer: Linear(in_features=1, out_features=1, bias=False)\n",
      " w:    tensor([[0.7645]])\n",
      " grad: None\n",
      "  out: <MmBackward0 object at 0x7fb733f943d0>\n",
      "Layer: Linear(in_features=1, out_features=1, bias=False)\n",
      " w:    tensor([[0.8300]])\n",
      " grad: None\n",
      "  out: <MmBackward0 object at 0x7fb733f972e0>\n",
      "Layer: Linear(in_features=1, out_features=1, bias=False)\n",
      " w:    tensor([[-0.2343]])\n",
      " grad: None\n",
      "  out: <MmBackward0 object at 0x7fb733f972e0>\n"
     ]
    },
    {
     "data": {
      "text/plain": [
       "tensor([[-0.1426]], grad_fn=<MmBackward0>)"
      ]
     },
     "execution_count": 44,
     "metadata": {},
     "output_type": "execute_result"
    }
   ],
   "source": [
    "model(x)"
   ]
  },
  {
   "cell_type": "code",
   "execution_count": 45,
   "metadata": {},
   "outputs": [
    {
     "name": "stdout",
     "output_type": "stream",
     "text": [
      "Layer: Linear(in_features=1, out_features=1, bias=False)\n",
      " w:    tensor([[0.7645]])\n",
      " grad: None\n",
      "  out: <MmBackward0 object at 0x7fb733f972e0>\n",
      "Layer: Linear(in_features=1, out_features=1, bias=False)\n",
      " w:    tensor([[0.8300]])\n",
      " grad: None\n",
      "  out: <MmBackward0 object at 0x7fb736d35930>\n",
      "Layer: Linear(in_features=1, out_features=1, bias=False)\n",
      " w:    tensor([[-0.2343]])\n",
      " grad: None\n",
      "  out: <MmBackward0 object at 0x7fb736d35930>\n"
     ]
    },
    {
     "data": {
      "text/plain": [
       "tensor(0.0203, grad_fn=<SumBackward0>)"
      ]
     },
     "execution_count": 45,
     "metadata": {},
     "output_type": "execute_result"
    }
   ],
   "source": [
    "loss = model(x).pow(2).sum()\n",
    "loss.backward()\n",
    "loss"
   ]
  },
  {
   "cell_type": "code",
   "execution_count": 46,
   "metadata": {},
   "outputs": [
    {
     "name": "stdout",
     "output_type": "stream",
     "text": [
      "Layer: Linear(in_features=1, out_features=1, bias=False)\n",
      " w:    tensor([[0.7645]])\n",
      " grad: tensor([[0.0532]])\n",
      "Layer: Linear(in_features=1, out_features=1, bias=False)\n",
      " w:    tensor([[0.8300]])\n",
      " grad: tensor([[0.0490]])\n",
      "Layer: Linear(in_features=1, out_features=1, bias=False)\n",
      " w:    tensor([[-0.2343]])\n",
      " grad: tensor([[-0.1736]])\n"
     ]
    }
   ],
   "source": [
    "model.print()"
   ]
  },
  {
   "cell_type": "markdown",
   "metadata": {},
   "source": [
    "default Gradient Checkpointing with frozen embeddings"
   ]
  },
  {
   "cell_type": "code",
   "execution_count": 47,
   "metadata": {},
   "outputs": [
    {
     "name": "stdout",
     "output_type": "stream",
     "text": [
      "Layer: Linear(in_features=1, out_features=1, bias=False)\n",
      " w:    tensor([[0.7645]])\n",
      " grad: None\n",
      "  out: None\n",
      "Layer: Linear(in_features=1, out_features=1, bias=False)\n",
      " w:    tensor([[0.7645]])\n",
      " grad: None\n",
      "  out: None\n",
      "Layer: Linear(in_features=1, out_features=1, bias=False)\n",
      " w:    tensor([[-0.2343]])\n",
      " grad: None\n",
      "  out: <MmBackward0 object at 0x7fb733f943d0>\n"
     ]
    },
    {
     "data": {
      "text/plain": [
       "tensor(0.0203, grad_fn=<SumBackward0>)"
      ]
     },
     "execution_count": 47,
     "metadata": {},
     "output_type": "execute_result"
    }
   ],
   "source": [
    "torch.manual_seed(42)        \n",
    "model = Model()\n",
    "x = torch.rand(1,1)\n",
    "model.linear.weight.requires_grad_(False);\n",
    "loss = model(x, cp=True).pow(2).sum()\n",
    "loss.backward()\n",
    "loss"
   ]
  },
  {
   "cell_type": "code",
   "execution_count": 48,
   "metadata": {},
   "outputs": [
    {
     "name": "stdout",
     "output_type": "stream",
     "text": [
      "Layer: Linear(in_features=1, out_features=1, bias=False)\n",
      " w:    tensor([[0.7645]])\n",
      " grad: None\n",
      "Layer: Linear(in_features=1, out_features=1, bias=False)\n",
      " w:    tensor([[0.8300]])\n",
      " grad: None\n",
      "Layer: Linear(in_features=1, out_features=1, bias=False)\n",
      " w:    tensor([[-0.2343]])\n",
      " grad: tensor([[-0.1736]])\n"
     ]
    }
   ],
   "source": [
    "model.print()"
   ]
  },
  {
   "cell_type": "markdown",
   "metadata": {},
   "source": [
    "This is wrong, we should have gradients on Linear layer!"
   ]
  },
  {
   "cell_type": "markdown",
   "metadata": {},
   "source": [
    "New Gradient Checkpointing behavior"
   ]
  },
  {
   "cell_type": "code",
   "execution_count": 49,
   "metadata": {},
   "outputs": [
    {
     "name": "stdout",
     "output_type": "stream",
     "text": [
      "Layer: Linear(in_features=1, out_features=1, bias=False)\n",
      " w:    tensor([[0.7645]])\n",
      " grad: None\n",
      "  out: None\n",
      "Layer: Linear(in_features=1, out_features=1, bias=False)\n",
      " w:    tensor([[0.7645]])\n",
      " grad: None\n",
      "  out: <MmBackward0 object at 0x7fb731af7fa0>\n",
      "Layer: Linear(in_features=1, out_features=1, bias=False)\n",
      " w:    tensor([[-0.2343]])\n",
      " grad: None\n",
      "  out: <MmBackward0 object at 0x7fb731af7fa0>\n"
     ]
    },
    {
     "data": {
      "text/plain": [
       "tensor(0.0203, grad_fn=<SumBackward0>)"
      ]
     },
     "execution_count": 49,
     "metadata": {},
     "output_type": "execute_result"
    }
   ],
   "source": [
    "torch.manual_seed(42)        \n",
    "model = Model()\n",
    "x = torch.rand(1,1)\n",
    "model.linear.weight.requires_grad_(False);\n",
    "loss = model(x, cp=True, reentrant=False).pow(2).sum()\n",
    "loss.backward()\n",
    "loss"
   ]
  },
  {
   "cell_type": "code",
   "execution_count": 50,
   "metadata": {},
   "outputs": [
    {
     "name": "stdout",
     "output_type": "stream",
     "text": [
      "Layer: Linear(in_features=1, out_features=1, bias=False)\n",
      " w:    tensor([[0.7645]])\n",
      " grad: None\n",
      "Layer: Linear(in_features=1, out_features=1, bias=False)\n",
      " w:    tensor([[0.8300]])\n",
      " grad: tensor([[0.0490]])\n",
      "Layer: Linear(in_features=1, out_features=1, bias=False)\n",
      " w:    tensor([[-0.2343]])\n",
      " grad: tensor([[-0.1736]])\n"
     ]
    }
   ],
   "source": [
    "model.print()"
   ]
  },
  {
   "cell_type": "code",
   "execution_count": 51,
   "metadata": {},
   "outputs": [
    {
     "name": "stdout",
     "output_type": "stream",
     "text": [
      "Layer: Linear(in_features=1, out_features=1, bias=False)\n",
      " w:    tensor([[0.7645]])\n",
      " grad: None\n",
      "  out: None\n",
      "Layer: Linear(in_features=1, out_features=1, bias=False)\n",
      " w:    tensor([[0.7645]])\n",
      " grad: None\n",
      "  out: <MmBackward0 object at 0x7fb731af45e0>\n",
      "Layer: Linear(in_features=1, out_features=1, bias=False)\n",
      " w:    tensor([[-0.2343]])\n",
      " grad: None\n",
      "  out: <MmBackward0 object at 0x7fb731af45e0>\n"
     ]
    },
    {
     "data": {
      "text/plain": [
       "tensor(0.0203, grad_fn=<SumBackward0>)"
      ]
     },
     "execution_count": 51,
     "metadata": {},
     "output_type": "execute_result"
    }
   ],
   "source": [
    "torch.manual_seed(42)        \n",
    "model = Model()\n",
    "x = torch.rand(1,1)\n",
    "model.linear.weight.requires_grad_(False);\n",
    "loss = model(x, cp=True, reentrant=False, enable_input_grad=True).pow(2).sum()\n",
    "loss.backward()\n",
    "loss"
   ]
  },
  {
   "cell_type": "code",
   "execution_count": 52,
   "metadata": {},
   "outputs": [
    {
     "name": "stdout",
     "output_type": "stream",
     "text": [
      "Layer: Linear(in_features=1, out_features=1, bias=False)\n",
      " w:    tensor([[0.7645]])\n",
      " grad: None\n",
      "Layer: Linear(in_features=1, out_features=1, bias=False)\n",
      " w:    tensor([[0.8300]])\n",
      " grad: tensor([[0.0490]])\n",
      "Layer: Linear(in_features=1, out_features=1, bias=False)\n",
      " w:    tensor([[-0.2343]])\n",
      " grad: tensor([[-0.1736]])\n"
     ]
    }
   ],
   "source": [
    "model.print()"
   ]
  },
  {
   "cell_type": "code",
   "execution_count": 53,
   "metadata": {},
   "outputs": [
    {
     "name": "stdout",
     "output_type": "stream",
     "text": [
      "Layer: Linear(in_features=1, out_features=1, bias=False)\n",
      " w:    tensor([[0.7645]])\n",
      " grad: None\n",
      "  out: None\n",
      "Layer: Linear(in_features=1, out_features=1, bias=False)\n",
      " w:    tensor([[0.7645]])\n",
      " grad: None\n",
      "  out: <torch.autograd.function.CheckpointFunctionBackward object at 0x7fb7341aae40>\n",
      "Layer: Linear(in_features=1, out_features=1, bias=False)\n",
      " w:    tensor([[-0.2343]])\n",
      " grad: None\n",
      "  out: <MmBackward0 object at 0x7fb731af4d90>\n"
     ]
    },
    {
     "data": {
      "text/plain": [
       "tensor(0.0203, grad_fn=<SumBackward0>)"
      ]
     },
     "execution_count": 53,
     "metadata": {},
     "output_type": "execute_result"
    }
   ],
   "source": [
    "torch.manual_seed(42)        \n",
    "model = Model()\n",
    "x = torch.rand(1,1)\n",
    "model.linear.weight.requires_grad_(False);\n",
    "loss = model(x, cp=True, reentrant=True, enable_input_grad=True).pow(2).sum()\n",
    "loss.backward()\n",
    "loss"
   ]
  },
  {
   "cell_type": "code",
   "execution_count": 54,
   "metadata": {},
   "outputs": [
    {
     "name": "stdout",
     "output_type": "stream",
     "text": [
      "Layer: Linear(in_features=1, out_features=1, bias=False)\n",
      " w:    tensor([[0.7645]])\n",
      " grad: None\n",
      "Layer: Linear(in_features=1, out_features=1, bias=False)\n",
      " w:    tensor([[0.8300]])\n",
      " grad: tensor([[0.0490]])\n",
      "Layer: Linear(in_features=1, out_features=1, bias=False)\n",
      " w:    tensor([[-0.2343]])\n",
      " grad: tensor([[-0.1736]])\n"
     ]
    }
   ],
   "source": [
    "model.print()"
   ]
  },
  {
   "cell_type": "code",
   "execution_count": null,
   "metadata": {},
   "outputs": [],
   "source": []
  },
  {
   "cell_type": "code",
   "execution_count": null,
   "metadata": {},
   "outputs": [],
   "source": []
  }
 ],
 "metadata": {
  "kernelspec": {
   "display_name": "Python 3 (ipykernel)",
   "language": "python",
   "name": "python3"
  },
  "language_info": {
   "codemirror_mode": {
    "name": "ipython",
    "version": 3
   },
   "file_extension": ".py",
   "mimetype": "text/x-python",
   "name": "python",
   "nbconvert_exporter": "python",
   "pygments_lexer": "ipython3",
   "version": "3.10.12"
  }
 },
 "nbformat": 4,
 "nbformat_minor": 4
}
